{
 "cells": [
  {
   "cell_type": "markdown",
   "metadata": {
    "id": "tXkprw2ZSSNf"
   },
   "source": [
    "# 데이터정리\n",
    "\n"
   ]
  },
  {
   "cell_type": "code",
   "execution_count": 1,
   "metadata": {
    "executionInfo": {
     "elapsed": 12,
     "status": "ok",
     "timestamp": 1623133853572,
     "user": {
      "displayName": "서아연",
      "photoUrl": "",
      "userId": "17724758080386571393"
     },
     "user_tz": -540
    },
    "id": "vuQwV4FuPgSl"
   },
   "outputs": [],
   "source": [
    "import pandas as pd\n",
    "import numpy as np\n",
    "import matplotlib.pyplot as plt"
   ]
  },
  {
   "cell_type": "code",
   "execution_count": 2,
   "metadata": {
    "colab": {
     "base_uri": "https://localhost:8080/",
     "height": 235
    },
    "executionInfo": {
     "elapsed": 310,
     "status": "ok",
     "timestamp": 1623133853871,
     "user": {
      "displayName": "서아연",
      "photoUrl": "",
      "userId": "17724758080386571393"
     },
     "user_tz": -540
    },
    "id": "5nmfBLGHVetk",
    "outputId": "70739278-a98a-48c9-e226-268bf80e312a"
   },
   "outputs": [
    {
     "data": {
      "text/html": [
       "<div>\n",
       "<style scoped>\n",
       "    .dataframe tbody tr th:only-of-type {\n",
       "        vertical-align: middle;\n",
       "    }\n",
       "\n",
       "    .dataframe tbody tr th {\n",
       "        vertical-align: top;\n",
       "    }\n",
       "\n",
       "    .dataframe thead th {\n",
       "        text-align: right;\n",
       "    }\n",
       "</style>\n",
       "<table border=\"1\" class=\"dataframe\">\n",
       "  <thead>\n",
       "    <tr style=\"text-align: right;\">\n",
       "      <th></th>\n",
       "      <th>S</th>\n",
       "      <th>O</th>\n",
       "      <th>S_x1</th>\n",
       "      <th>S_x2</th>\n",
       "      <th>S_y1</th>\n",
       "      <th>S_y2</th>\n",
       "      <th>O_x1</th>\n",
       "      <th>O_x2</th>\n",
       "      <th>O_y1</th>\n",
       "      <th>O_y2</th>\n",
       "      <th>V</th>\n",
       "    </tr>\n",
       "    <tr>\n",
       "      <th>name</th>\n",
       "      <th></th>\n",
       "      <th></th>\n",
       "      <th></th>\n",
       "      <th></th>\n",
       "      <th></th>\n",
       "      <th></th>\n",
       "      <th></th>\n",
       "      <th></th>\n",
       "      <th></th>\n",
       "      <th></th>\n",
       "      <th></th>\n",
       "    </tr>\n",
       "  </thead>\n",
       "  <tbody>\n",
       "    <tr>\n",
       "      <td>501.jpg</td>\n",
       "      <td>person</td>\n",
       "      <td>tv</td>\n",
       "      <td>358.36777</td>\n",
       "      <td>1166.98720</td>\n",
       "      <td>176.743670</td>\n",
       "      <td>678.55210</td>\n",
       "      <td>96.518560</td>\n",
       "      <td>478.38773</td>\n",
       "      <td>8.149552</td>\n",
       "      <td>265.71945</td>\n",
       "      <td>is watching a</td>\n",
       "    </tr>\n",
       "    <tr>\n",
       "      <td>502.jpg</td>\n",
       "      <td>person</td>\n",
       "      <td>tv</td>\n",
       "      <td>563.67380</td>\n",
       "      <td>1140.59300</td>\n",
       "      <td>43.792995</td>\n",
       "      <td>542.92786</td>\n",
       "      <td>64.038490</td>\n",
       "      <td>454.26022</td>\n",
       "      <td>92.439830</td>\n",
       "      <td>383.36578</td>\n",
       "      <td>is watching a</td>\n",
       "    </tr>\n",
       "    <tr>\n",
       "      <td>504.jpg</td>\n",
       "      <td>person</td>\n",
       "      <td>couch</td>\n",
       "      <td>929.53235</td>\n",
       "      <td>1058.00850</td>\n",
       "      <td>174.758850</td>\n",
       "      <td>331.09814</td>\n",
       "      <td>17.035616</td>\n",
       "      <td>805.03270</td>\n",
       "      <td>414.948030</td>\n",
       "      <td>836.60430</td>\n",
       "      <td>is sitting on a</td>\n",
       "    </tr>\n",
       "    <tr>\n",
       "      <td>505.jpg</td>\n",
       "      <td>person</td>\n",
       "      <td>tv</td>\n",
       "      <td>114.64656</td>\n",
       "      <td>536.39734</td>\n",
       "      <td>180.003800</td>\n",
       "      <td>766.54320</td>\n",
       "      <td>739.967830</td>\n",
       "      <td>1097.62590</td>\n",
       "      <td>147.948470</td>\n",
       "      <td>410.90103</td>\n",
       "      <td>is watching a</td>\n",
       "    </tr>\n",
       "    <tr>\n",
       "      <td>507.jpg</td>\n",
       "      <td>person</td>\n",
       "      <td>tie</td>\n",
       "      <td>926.45197</td>\n",
       "      <td>1188.24270</td>\n",
       "      <td>109.980990</td>\n",
       "      <td>421.86365</td>\n",
       "      <td>1066.057700</td>\n",
       "      <td>1091.28850</td>\n",
       "      <td>203.094640</td>\n",
       "      <td>387.57584</td>\n",
       "      <td>is wearing a</td>\n",
       "    </tr>\n",
       "  </tbody>\n",
       "</table>\n",
       "</div>"
      ],
      "text/plain": [
       "              S      O       S_x1        S_x2        S_y1       S_y2  \\\n",
       "name                                                                   \n",
       "501.jpg  person     tv  358.36777  1166.98720  176.743670  678.55210   \n",
       "502.jpg  person     tv  563.67380  1140.59300   43.792995  542.92786   \n",
       "504.jpg  person  couch  929.53235  1058.00850  174.758850  331.09814   \n",
       "505.jpg  person     tv  114.64656   536.39734  180.003800  766.54320   \n",
       "507.jpg  person    tie  926.45197  1188.24270  109.980990  421.86365   \n",
       "\n",
       "                O_x1        O_x2        O_y1       O_y2                V  \n",
       "name                                                                      \n",
       "501.jpg    96.518560   478.38773    8.149552  265.71945    is watching a  \n",
       "502.jpg    64.038490   454.26022   92.439830  383.36578    is watching a  \n",
       "504.jpg    17.035616   805.03270  414.948030  836.60430  is sitting on a  \n",
       "505.jpg   739.967830  1097.62590  147.948470  410.90103    is watching a  \n",
       "507.jpg  1066.057700  1091.28850  203.094640  387.57584     is wearing a  "
      ]
     },
     "execution_count": 2,
     "metadata": {},
     "output_type": "execute_result"
    }
   ],
   "source": [
    "data = pd.read_csv('C:/Users/user/Desktop/4학년/서아연/캡스톤/train_data_.csv', index_col = \"name\")\n",
    "# data = data.dropna()\n",
    "data.head()"
   ]
  },
  {
   "cell_type": "code",
   "execution_count": 3,
   "metadata": {
    "executionInfo": {
     "elapsed": 23,
     "status": "ok",
     "timestamp": 1623133853873,
     "user": {
      "displayName": "서아연",
      "photoUrl": "",
      "userId": "17724758080386571393"
     },
     "user_tz": -540
    },
    "id": "RQybMZYdQWsy"
   },
   "outputs": [],
   "source": [
    "X = data.iloc[:, :10]\n",
    "y = data.iloc[:, 10]"
   ]
  },
  {
   "cell_type": "code",
   "execution_count": 4,
   "metadata": {
    "colab": {
     "base_uri": "https://localhost:8080/",
     "height": 450
    },
    "executionInfo": {
     "elapsed": 23,
     "status": "ok",
     "timestamp": 1623133853874,
     "user": {
      "displayName": "서아연",
      "photoUrl": "",
      "userId": "17724758080386571393"
     },
     "user_tz": -540
    },
    "id": "zAqq8M4kQWnN",
    "outputId": "e055f459-846b-4dd8-9542-a42f0f966a8c"
   },
   "outputs": [
    {
     "data": {
      "text/html": [
       "<div>\n",
       "<style scoped>\n",
       "    .dataframe tbody tr th:only-of-type {\n",
       "        vertical-align: middle;\n",
       "    }\n",
       "\n",
       "    .dataframe tbody tr th {\n",
       "        vertical-align: top;\n",
       "    }\n",
       "\n",
       "    .dataframe thead th {\n",
       "        text-align: right;\n",
       "    }\n",
       "</style>\n",
       "<table border=\"1\" class=\"dataframe\">\n",
       "  <thead>\n",
       "    <tr style=\"text-align: right;\">\n",
       "      <th></th>\n",
       "      <th>S</th>\n",
       "      <th>O</th>\n",
       "      <th>S_x1</th>\n",
       "      <th>S_x2</th>\n",
       "      <th>S_y1</th>\n",
       "      <th>S_y2</th>\n",
       "      <th>O_x1</th>\n",
       "      <th>O_x2</th>\n",
       "      <th>O_y1</th>\n",
       "      <th>O_y2</th>\n",
       "    </tr>\n",
       "    <tr>\n",
       "      <th>name</th>\n",
       "      <th></th>\n",
       "      <th></th>\n",
       "      <th></th>\n",
       "      <th></th>\n",
       "      <th></th>\n",
       "      <th></th>\n",
       "      <th></th>\n",
       "      <th></th>\n",
       "      <th></th>\n",
       "      <th></th>\n",
       "    </tr>\n",
       "  </thead>\n",
       "  <tbody>\n",
       "    <tr>\n",
       "      <td>501.jpg</td>\n",
       "      <td>person</td>\n",
       "      <td>tv</td>\n",
       "      <td>358.367770</td>\n",
       "      <td>1166.98720</td>\n",
       "      <td>176.743670</td>\n",
       "      <td>678.55210</td>\n",
       "      <td>96.518560</td>\n",
       "      <td>478.38773</td>\n",
       "      <td>8.149552</td>\n",
       "      <td>265.71945</td>\n",
       "    </tr>\n",
       "    <tr>\n",
       "      <td>502.jpg</td>\n",
       "      <td>person</td>\n",
       "      <td>tv</td>\n",
       "      <td>563.673800</td>\n",
       "      <td>1140.59300</td>\n",
       "      <td>43.792995</td>\n",
       "      <td>542.92786</td>\n",
       "      <td>64.038490</td>\n",
       "      <td>454.26022</td>\n",
       "      <td>92.439830</td>\n",
       "      <td>383.36578</td>\n",
       "    </tr>\n",
       "    <tr>\n",
       "      <td>504.jpg</td>\n",
       "      <td>person</td>\n",
       "      <td>couch</td>\n",
       "      <td>929.532350</td>\n",
       "      <td>1058.00850</td>\n",
       "      <td>174.758850</td>\n",
       "      <td>331.09814</td>\n",
       "      <td>17.035616</td>\n",
       "      <td>805.03270</td>\n",
       "      <td>414.948030</td>\n",
       "      <td>836.60430</td>\n",
       "    </tr>\n",
       "    <tr>\n",
       "      <td>505.jpg</td>\n",
       "      <td>person</td>\n",
       "      <td>tv</td>\n",
       "      <td>114.646560</td>\n",
       "      <td>536.39734</td>\n",
       "      <td>180.003800</td>\n",
       "      <td>766.54320</td>\n",
       "      <td>739.967830</td>\n",
       "      <td>1097.62590</td>\n",
       "      <td>147.948470</td>\n",
       "      <td>410.90103</td>\n",
       "    </tr>\n",
       "    <tr>\n",
       "      <td>507.jpg</td>\n",
       "      <td>person</td>\n",
       "      <td>tie</td>\n",
       "      <td>926.451970</td>\n",
       "      <td>1188.24270</td>\n",
       "      <td>109.980990</td>\n",
       "      <td>421.86365</td>\n",
       "      <td>1066.057700</td>\n",
       "      <td>1091.28850</td>\n",
       "      <td>203.094640</td>\n",
       "      <td>387.57584</td>\n",
       "    </tr>\n",
       "    <tr>\n",
       "      <td>...</td>\n",
       "      <td>...</td>\n",
       "      <td>...</td>\n",
       "      <td>...</td>\n",
       "      <td>...</td>\n",
       "      <td>...</td>\n",
       "      <td>...</td>\n",
       "      <td>...</td>\n",
       "      <td>...</td>\n",
       "      <td>...</td>\n",
       "      <td>...</td>\n",
       "    </tr>\n",
       "    <tr>\n",
       "      <td>wine glass6.jpg</td>\n",
       "      <td>person</td>\n",
       "      <td>bottle</td>\n",
       "      <td>83.449715</td>\n",
       "      <td>322.53210</td>\n",
       "      <td>18.727050</td>\n",
       "      <td>425.99225</td>\n",
       "      <td>332.383700</td>\n",
       "      <td>365.85065</td>\n",
       "      <td>346.757450</td>\n",
       "      <td>463.51400</td>\n",
       "    </tr>\n",
       "    <tr>\n",
       "      <td>wine glass7.jpg</td>\n",
       "      <td>person</td>\n",
       "      <td>wine glass</td>\n",
       "      <td>0.738452</td>\n",
       "      <td>271.48170</td>\n",
       "      <td>0.000000</td>\n",
       "      <td>457.77353</td>\n",
       "      <td>257.999020</td>\n",
       "      <td>335.42690</td>\n",
       "      <td>230.823040</td>\n",
       "      <td>348.22220</td>\n",
       "    </tr>\n",
       "    <tr>\n",
       "      <td>wine glass8.jpg</td>\n",
       "      <td>person</td>\n",
       "      <td>wine glass</td>\n",
       "      <td>113.512620</td>\n",
       "      <td>264.72955</td>\n",
       "      <td>217.192340</td>\n",
       "      <td>387.12823</td>\n",
       "      <td>223.183040</td>\n",
       "      <td>334.34122</td>\n",
       "      <td>349.607400</td>\n",
       "      <td>586.39484</td>\n",
       "    </tr>\n",
       "    <tr>\n",
       "      <td>wine glass9.jpg</td>\n",
       "      <td>person</td>\n",
       "      <td>wine glass</td>\n",
       "      <td>301.757600</td>\n",
       "      <td>615.51746</td>\n",
       "      <td>0.000000</td>\n",
       "      <td>387.31870</td>\n",
       "      <td>403.303700</td>\n",
       "      <td>500.74783</td>\n",
       "      <td>177.243320</td>\n",
       "      <td>418.57290</td>\n",
       "    </tr>\n",
       "    <tr>\n",
       "      <td>zidane.jpg</td>\n",
       "      <td>person</td>\n",
       "      <td>tie</td>\n",
       "      <td>744.796940</td>\n",
       "      <td>1160.38180</td>\n",
       "      <td>36.975800</td>\n",
       "      <td>710.31580</td>\n",
       "      <td>431.523620</td>\n",
       "      <td>522.25170</td>\n",
       "      <td>432.079040</td>\n",
       "      <td>714.08000</td>\n",
       "    </tr>\n",
       "  </tbody>\n",
       "</table>\n",
       "<p>782 rows × 10 columns</p>\n",
       "</div>"
      ],
      "text/plain": [
       "                      S           O        S_x1        S_x2        S_y1  \\\n",
       "name                                                                      \n",
       "501.jpg          person          tv  358.367770  1166.98720  176.743670   \n",
       "502.jpg          person          tv  563.673800  1140.59300   43.792995   \n",
       "504.jpg          person       couch  929.532350  1058.00850  174.758850   \n",
       "505.jpg          person          tv  114.646560   536.39734  180.003800   \n",
       "507.jpg          person         tie  926.451970  1188.24270  109.980990   \n",
       "...                 ...         ...         ...         ...         ...   \n",
       "wine glass6.jpg  person      bottle   83.449715   322.53210   18.727050   \n",
       "wine glass7.jpg  person  wine glass    0.738452   271.48170    0.000000   \n",
       "wine glass8.jpg  person  wine glass  113.512620   264.72955  217.192340   \n",
       "wine glass9.jpg  person  wine glass  301.757600   615.51746    0.000000   \n",
       "zidane.jpg       person         tie  744.796940  1160.38180   36.975800   \n",
       "\n",
       "                      S_y2         O_x1        O_x2        O_y1       O_y2  \n",
       "name                                                                        \n",
       "501.jpg          678.55210    96.518560   478.38773    8.149552  265.71945  \n",
       "502.jpg          542.92786    64.038490   454.26022   92.439830  383.36578  \n",
       "504.jpg          331.09814    17.035616   805.03270  414.948030  836.60430  \n",
       "505.jpg          766.54320   739.967830  1097.62590  147.948470  410.90103  \n",
       "507.jpg          421.86365  1066.057700  1091.28850  203.094640  387.57584  \n",
       "...                    ...          ...         ...         ...        ...  \n",
       "wine glass6.jpg  425.99225   332.383700   365.85065  346.757450  463.51400  \n",
       "wine glass7.jpg  457.77353   257.999020   335.42690  230.823040  348.22220  \n",
       "wine glass8.jpg  387.12823   223.183040   334.34122  349.607400  586.39484  \n",
       "wine glass9.jpg  387.31870   403.303700   500.74783  177.243320  418.57290  \n",
       "zidane.jpg       710.31580   431.523620   522.25170  432.079040  714.08000  \n",
       "\n",
       "[782 rows x 10 columns]"
      ]
     },
     "execution_count": 4,
     "metadata": {},
     "output_type": "execute_result"
    }
   ],
   "source": [
    "X"
   ]
  },
  {
   "cell_type": "code",
   "execution_count": 5,
   "metadata": {
    "colab": {
     "base_uri": "https://localhost:8080/"
    },
    "executionInfo": {
     "elapsed": 23,
     "status": "ok",
     "timestamp": 1623133853875,
     "user": {
      "displayName": "서아연",
      "photoUrl": "",
      "userId": "17724758080386571393"
     },
     "user_tz": -540
    },
    "id": "QsVisnJWQWg9",
    "outputId": "2430256b-aebb-4eca-e187-1e7d83286af4"
   },
   "outputs": [
    {
     "data": {
      "text/plain": [
       "name\n",
       "501.jpg              is watching a\n",
       "502.jpg              is watching a\n",
       "504.jpg            is sitting on a\n",
       "505.jpg              is watching a\n",
       "507.jpg               is wearing a\n",
       "                        ...       \n",
       "wine glass6.jpg       is holding a\n",
       "wine glass7.jpg         is using a\n",
       "wine glass8.jpg         is using a\n",
       "wine glass9.jpg         is using a\n",
       "zidane.jpg            is wearing a\n",
       "Name: V, Length: 782, dtype: object"
      ]
     },
     "execution_count": 5,
     "metadata": {},
     "output_type": "execute_result"
    }
   ],
   "source": [
    "y"
   ]
  },
  {
   "cell_type": "code",
   "execution_count": 6,
   "metadata": {
    "executionInfo": {
     "elapsed": 17,
     "status": "ok",
     "timestamp": 1623133853876,
     "user": {
      "displayName": "서아연",
      "photoUrl": "",
      "userId": "17724758080386571393"
     },
     "user_tz": -540
    },
    "id": "HGh6TVG7QWW_"
   },
   "outputs": [],
   "source": [
    "X_ = pd.get_dummies(X)"
   ]
  },
  {
   "cell_type": "code",
   "execution_count": 7,
   "metadata": {},
   "outputs": [],
   "source": [
    "X_.to_csv(\"filename.csv\")"
   ]
  },
  {
   "cell_type": "code",
   "execution_count": 8,
   "metadata": {
    "scrolled": false
   },
   "outputs": [
    {
     "data": {
      "text/html": [
       "<div>\n",
       "<style scoped>\n",
       "    .dataframe tbody tr th:only-of-type {\n",
       "        vertical-align: middle;\n",
       "    }\n",
       "\n",
       "    .dataframe tbody tr th {\n",
       "        vertical-align: top;\n",
       "    }\n",
       "\n",
       "    .dataframe thead th {\n",
       "        text-align: right;\n",
       "    }\n",
       "</style>\n",
       "<table border=\"1\" class=\"dataframe\">\n",
       "  <thead>\n",
       "    <tr style=\"text-align: right;\">\n",
       "      <th></th>\n",
       "      <th>S_x1</th>\n",
       "      <th>S_x2</th>\n",
       "      <th>S_y1</th>\n",
       "      <th>S_y2</th>\n",
       "      <th>O_x1</th>\n",
       "      <th>O_x2</th>\n",
       "      <th>O_y1</th>\n",
       "      <th>O_y2</th>\n",
       "      <th>S_person</th>\n",
       "      <th>O_apple</th>\n",
       "      <th>...</th>\n",
       "      <th>O_teddy bear</th>\n",
       "      <th>O_tennis racket</th>\n",
       "      <th>O_tie</th>\n",
       "      <th>O_toilet</th>\n",
       "      <th>O_toothbrush</th>\n",
       "      <th>O_truck</th>\n",
       "      <th>O_tv</th>\n",
       "      <th>O_umbrella</th>\n",
       "      <th>O_vase</th>\n",
       "      <th>O_wine glass</th>\n",
       "    </tr>\n",
       "    <tr>\n",
       "      <th>name</th>\n",
       "      <th></th>\n",
       "      <th></th>\n",
       "      <th></th>\n",
       "      <th></th>\n",
       "      <th></th>\n",
       "      <th></th>\n",
       "      <th></th>\n",
       "      <th></th>\n",
       "      <th></th>\n",
       "      <th></th>\n",
       "      <th></th>\n",
       "      <th></th>\n",
       "      <th></th>\n",
       "      <th></th>\n",
       "      <th></th>\n",
       "      <th></th>\n",
       "      <th></th>\n",
       "      <th></th>\n",
       "      <th></th>\n",
       "      <th></th>\n",
       "      <th></th>\n",
       "    </tr>\n",
       "  </thead>\n",
       "  <tbody>\n",
       "    <tr>\n",
       "      <td>501.jpg</td>\n",
       "      <td>358.367770</td>\n",
       "      <td>1166.98720</td>\n",
       "      <td>176.743670</td>\n",
       "      <td>678.55210</td>\n",
       "      <td>96.518560</td>\n",
       "      <td>478.38773</td>\n",
       "      <td>8.149552</td>\n",
       "      <td>265.71945</td>\n",
       "      <td>1</td>\n",
       "      <td>0</td>\n",
       "      <td>...</td>\n",
       "      <td>0</td>\n",
       "      <td>0</td>\n",
       "      <td>0</td>\n",
       "      <td>0</td>\n",
       "      <td>0</td>\n",
       "      <td>0</td>\n",
       "      <td>1</td>\n",
       "      <td>0</td>\n",
       "      <td>0</td>\n",
       "      <td>0</td>\n",
       "    </tr>\n",
       "    <tr>\n",
       "      <td>502.jpg</td>\n",
       "      <td>563.673800</td>\n",
       "      <td>1140.59300</td>\n",
       "      <td>43.792995</td>\n",
       "      <td>542.92786</td>\n",
       "      <td>64.038490</td>\n",
       "      <td>454.26022</td>\n",
       "      <td>92.439830</td>\n",
       "      <td>383.36578</td>\n",
       "      <td>1</td>\n",
       "      <td>0</td>\n",
       "      <td>...</td>\n",
       "      <td>0</td>\n",
       "      <td>0</td>\n",
       "      <td>0</td>\n",
       "      <td>0</td>\n",
       "      <td>0</td>\n",
       "      <td>0</td>\n",
       "      <td>1</td>\n",
       "      <td>0</td>\n",
       "      <td>0</td>\n",
       "      <td>0</td>\n",
       "    </tr>\n",
       "    <tr>\n",
       "      <td>504.jpg</td>\n",
       "      <td>929.532350</td>\n",
       "      <td>1058.00850</td>\n",
       "      <td>174.758850</td>\n",
       "      <td>331.09814</td>\n",
       "      <td>17.035616</td>\n",
       "      <td>805.03270</td>\n",
       "      <td>414.948030</td>\n",
       "      <td>836.60430</td>\n",
       "      <td>1</td>\n",
       "      <td>0</td>\n",
       "      <td>...</td>\n",
       "      <td>0</td>\n",
       "      <td>0</td>\n",
       "      <td>0</td>\n",
       "      <td>0</td>\n",
       "      <td>0</td>\n",
       "      <td>0</td>\n",
       "      <td>0</td>\n",
       "      <td>0</td>\n",
       "      <td>0</td>\n",
       "      <td>0</td>\n",
       "    </tr>\n",
       "    <tr>\n",
       "      <td>505.jpg</td>\n",
       "      <td>114.646560</td>\n",
       "      <td>536.39734</td>\n",
       "      <td>180.003800</td>\n",
       "      <td>766.54320</td>\n",
       "      <td>739.967830</td>\n",
       "      <td>1097.62590</td>\n",
       "      <td>147.948470</td>\n",
       "      <td>410.90103</td>\n",
       "      <td>1</td>\n",
       "      <td>0</td>\n",
       "      <td>...</td>\n",
       "      <td>0</td>\n",
       "      <td>0</td>\n",
       "      <td>0</td>\n",
       "      <td>0</td>\n",
       "      <td>0</td>\n",
       "      <td>0</td>\n",
       "      <td>1</td>\n",
       "      <td>0</td>\n",
       "      <td>0</td>\n",
       "      <td>0</td>\n",
       "    </tr>\n",
       "    <tr>\n",
       "      <td>507.jpg</td>\n",
       "      <td>926.451970</td>\n",
       "      <td>1188.24270</td>\n",
       "      <td>109.980990</td>\n",
       "      <td>421.86365</td>\n",
       "      <td>1066.057700</td>\n",
       "      <td>1091.28850</td>\n",
       "      <td>203.094640</td>\n",
       "      <td>387.57584</td>\n",
       "      <td>1</td>\n",
       "      <td>0</td>\n",
       "      <td>...</td>\n",
       "      <td>0</td>\n",
       "      <td>0</td>\n",
       "      <td>1</td>\n",
       "      <td>0</td>\n",
       "      <td>0</td>\n",
       "      <td>0</td>\n",
       "      <td>0</td>\n",
       "      <td>0</td>\n",
       "      <td>0</td>\n",
       "      <td>0</td>\n",
       "    </tr>\n",
       "    <tr>\n",
       "      <td>...</td>\n",
       "      <td>...</td>\n",
       "      <td>...</td>\n",
       "      <td>...</td>\n",
       "      <td>...</td>\n",
       "      <td>...</td>\n",
       "      <td>...</td>\n",
       "      <td>...</td>\n",
       "      <td>...</td>\n",
       "      <td>...</td>\n",
       "      <td>...</td>\n",
       "      <td>...</td>\n",
       "      <td>...</td>\n",
       "      <td>...</td>\n",
       "      <td>...</td>\n",
       "      <td>...</td>\n",
       "      <td>...</td>\n",
       "      <td>...</td>\n",
       "      <td>...</td>\n",
       "      <td>...</td>\n",
       "      <td>...</td>\n",
       "      <td>...</td>\n",
       "    </tr>\n",
       "    <tr>\n",
       "      <td>wine glass6.jpg</td>\n",
       "      <td>83.449715</td>\n",
       "      <td>322.53210</td>\n",
       "      <td>18.727050</td>\n",
       "      <td>425.99225</td>\n",
       "      <td>332.383700</td>\n",
       "      <td>365.85065</td>\n",
       "      <td>346.757450</td>\n",
       "      <td>463.51400</td>\n",
       "      <td>1</td>\n",
       "      <td>0</td>\n",
       "      <td>...</td>\n",
       "      <td>0</td>\n",
       "      <td>0</td>\n",
       "      <td>0</td>\n",
       "      <td>0</td>\n",
       "      <td>0</td>\n",
       "      <td>0</td>\n",
       "      <td>0</td>\n",
       "      <td>0</td>\n",
       "      <td>0</td>\n",
       "      <td>0</td>\n",
       "    </tr>\n",
       "    <tr>\n",
       "      <td>wine glass7.jpg</td>\n",
       "      <td>0.738452</td>\n",
       "      <td>271.48170</td>\n",
       "      <td>0.000000</td>\n",
       "      <td>457.77353</td>\n",
       "      <td>257.999020</td>\n",
       "      <td>335.42690</td>\n",
       "      <td>230.823040</td>\n",
       "      <td>348.22220</td>\n",
       "      <td>1</td>\n",
       "      <td>0</td>\n",
       "      <td>...</td>\n",
       "      <td>0</td>\n",
       "      <td>0</td>\n",
       "      <td>0</td>\n",
       "      <td>0</td>\n",
       "      <td>0</td>\n",
       "      <td>0</td>\n",
       "      <td>0</td>\n",
       "      <td>0</td>\n",
       "      <td>0</td>\n",
       "      <td>1</td>\n",
       "    </tr>\n",
       "    <tr>\n",
       "      <td>wine glass8.jpg</td>\n",
       "      <td>113.512620</td>\n",
       "      <td>264.72955</td>\n",
       "      <td>217.192340</td>\n",
       "      <td>387.12823</td>\n",
       "      <td>223.183040</td>\n",
       "      <td>334.34122</td>\n",
       "      <td>349.607400</td>\n",
       "      <td>586.39484</td>\n",
       "      <td>1</td>\n",
       "      <td>0</td>\n",
       "      <td>...</td>\n",
       "      <td>0</td>\n",
       "      <td>0</td>\n",
       "      <td>0</td>\n",
       "      <td>0</td>\n",
       "      <td>0</td>\n",
       "      <td>0</td>\n",
       "      <td>0</td>\n",
       "      <td>0</td>\n",
       "      <td>0</td>\n",
       "      <td>1</td>\n",
       "    </tr>\n",
       "    <tr>\n",
       "      <td>wine glass9.jpg</td>\n",
       "      <td>301.757600</td>\n",
       "      <td>615.51746</td>\n",
       "      <td>0.000000</td>\n",
       "      <td>387.31870</td>\n",
       "      <td>403.303700</td>\n",
       "      <td>500.74783</td>\n",
       "      <td>177.243320</td>\n",
       "      <td>418.57290</td>\n",
       "      <td>1</td>\n",
       "      <td>0</td>\n",
       "      <td>...</td>\n",
       "      <td>0</td>\n",
       "      <td>0</td>\n",
       "      <td>0</td>\n",
       "      <td>0</td>\n",
       "      <td>0</td>\n",
       "      <td>0</td>\n",
       "      <td>0</td>\n",
       "      <td>0</td>\n",
       "      <td>0</td>\n",
       "      <td>1</td>\n",
       "    </tr>\n",
       "    <tr>\n",
       "      <td>zidane.jpg</td>\n",
       "      <td>744.796940</td>\n",
       "      <td>1160.38180</td>\n",
       "      <td>36.975800</td>\n",
       "      <td>710.31580</td>\n",
       "      <td>431.523620</td>\n",
       "      <td>522.25170</td>\n",
       "      <td>432.079040</td>\n",
       "      <td>714.08000</td>\n",
       "      <td>1</td>\n",
       "      <td>0</td>\n",
       "      <td>...</td>\n",
       "      <td>0</td>\n",
       "      <td>0</td>\n",
       "      <td>1</td>\n",
       "      <td>0</td>\n",
       "      <td>0</td>\n",
       "      <td>0</td>\n",
       "      <td>0</td>\n",
       "      <td>0</td>\n",
       "      <td>0</td>\n",
       "      <td>0</td>\n",
       "    </tr>\n",
       "  </tbody>\n",
       "</table>\n",
       "<p>782 rows × 66 columns</p>\n",
       "</div>"
      ],
      "text/plain": [
       "                       S_x1        S_x2        S_y1       S_y2         O_x1  \\\n",
       "name                                                                          \n",
       "501.jpg          358.367770  1166.98720  176.743670  678.55210    96.518560   \n",
       "502.jpg          563.673800  1140.59300   43.792995  542.92786    64.038490   \n",
       "504.jpg          929.532350  1058.00850  174.758850  331.09814    17.035616   \n",
       "505.jpg          114.646560   536.39734  180.003800  766.54320   739.967830   \n",
       "507.jpg          926.451970  1188.24270  109.980990  421.86365  1066.057700   \n",
       "...                     ...         ...         ...        ...          ...   \n",
       "wine glass6.jpg   83.449715   322.53210   18.727050  425.99225   332.383700   \n",
       "wine glass7.jpg    0.738452   271.48170    0.000000  457.77353   257.999020   \n",
       "wine glass8.jpg  113.512620   264.72955  217.192340  387.12823   223.183040   \n",
       "wine glass9.jpg  301.757600   615.51746    0.000000  387.31870   403.303700   \n",
       "zidane.jpg       744.796940  1160.38180   36.975800  710.31580   431.523620   \n",
       "\n",
       "                       O_x2        O_y1       O_y2  S_person  O_apple  ...  \\\n",
       "name                                                                   ...   \n",
       "501.jpg           478.38773    8.149552  265.71945         1        0  ...   \n",
       "502.jpg           454.26022   92.439830  383.36578         1        0  ...   \n",
       "504.jpg           805.03270  414.948030  836.60430         1        0  ...   \n",
       "505.jpg          1097.62590  147.948470  410.90103         1        0  ...   \n",
       "507.jpg          1091.28850  203.094640  387.57584         1        0  ...   \n",
       "...                     ...         ...        ...       ...      ...  ...   \n",
       "wine glass6.jpg   365.85065  346.757450  463.51400         1        0  ...   \n",
       "wine glass7.jpg   335.42690  230.823040  348.22220         1        0  ...   \n",
       "wine glass8.jpg   334.34122  349.607400  586.39484         1        0  ...   \n",
       "wine glass9.jpg   500.74783  177.243320  418.57290         1        0  ...   \n",
       "zidane.jpg        522.25170  432.079040  714.08000         1        0  ...   \n",
       "\n",
       "                 O_teddy bear  O_tennis racket  O_tie  O_toilet  O_toothbrush  \\\n",
       "name                                                                            \n",
       "501.jpg                     0                0      0         0             0   \n",
       "502.jpg                     0                0      0         0             0   \n",
       "504.jpg                     0                0      0         0             0   \n",
       "505.jpg                     0                0      0         0             0   \n",
       "507.jpg                     0                0      1         0             0   \n",
       "...                       ...              ...    ...       ...           ...   \n",
       "wine glass6.jpg             0                0      0         0             0   \n",
       "wine glass7.jpg             0                0      0         0             0   \n",
       "wine glass8.jpg             0                0      0         0             0   \n",
       "wine glass9.jpg             0                0      0         0             0   \n",
       "zidane.jpg                  0                0      1         0             0   \n",
       "\n",
       "                 O_truck  O_tv  O_umbrella  O_vase  O_wine glass  \n",
       "name                                                              \n",
       "501.jpg                0     1           0       0             0  \n",
       "502.jpg                0     1           0       0             0  \n",
       "504.jpg                0     0           0       0             0  \n",
       "505.jpg                0     1           0       0             0  \n",
       "507.jpg                0     0           0       0             0  \n",
       "...                  ...   ...         ...     ...           ...  \n",
       "wine glass6.jpg        0     0           0       0             0  \n",
       "wine glass7.jpg        0     0           0       0             1  \n",
       "wine glass8.jpg        0     0           0       0             1  \n",
       "wine glass9.jpg        0     0           0       0             1  \n",
       "zidane.jpg             0     0           0       0             0  \n",
       "\n",
       "[782 rows x 66 columns]"
      ]
     },
     "execution_count": 8,
     "metadata": {},
     "output_type": "execute_result"
    }
   ],
   "source": [
    "X_"
   ]
  },
  {
   "cell_type": "code",
   "execution_count": 9,
   "metadata": {
    "executionInfo": {
     "elapsed": 18,
     "status": "ok",
     "timestamp": 1623133853877,
     "user": {
      "displayName": "서아연",
      "photoUrl": "",
      "userId": "17724758080386571393"
     },
     "user_tz": -540
    },
    "id": "KnUe-6R2QgLN"
   },
   "outputs": [],
   "source": [
    "from sklearn.model_selection import train_test_split"
   ]
  },
  {
   "cell_type": "code",
   "execution_count": 10,
   "metadata": {
    "executionInfo": {
     "elapsed": 19,
     "status": "ok",
     "timestamp": 1623133853879,
     "user": {
      "displayName": "서아연",
      "photoUrl": "",
      "userId": "17724758080386571393"
     },
     "user_tz": -540
    },
    "id": "oXcJ_eyUQjQx"
   },
   "outputs": [],
   "source": [
    "X_train, X_test, y_train, y_test = train_test_split(X_, y, test_size = 0.2, random_state = 5)"
   ]
  },
  {
   "cell_type": "code",
   "execution_count": 11,
   "metadata": {
    "colab": {
     "base_uri": "https://localhost:8080/",
     "height": 487
    },
    "executionInfo": {
     "elapsed": 20,
     "status": "ok",
     "timestamp": 1623133853880,
     "user": {
      "displayName": "서아연",
      "photoUrl": "",
      "userId": "17724758080386571393"
     },
     "user_tz": -540
    },
    "id": "RQpStgp6QjGx",
    "outputId": "e87f1368-a6d5-4a86-8f48-c53e5a14c303"
   },
   "outputs": [
    {
     "data": {
      "text/html": [
       "<div>\n",
       "<style scoped>\n",
       "    .dataframe tbody tr th:only-of-type {\n",
       "        vertical-align: middle;\n",
       "    }\n",
       "\n",
       "    .dataframe tbody tr th {\n",
       "        vertical-align: top;\n",
       "    }\n",
       "\n",
       "    .dataframe thead th {\n",
       "        text-align: right;\n",
       "    }\n",
       "</style>\n",
       "<table border=\"1\" class=\"dataframe\">\n",
       "  <thead>\n",
       "    <tr style=\"text-align: right;\">\n",
       "      <th></th>\n",
       "      <th>S_x1</th>\n",
       "      <th>S_x2</th>\n",
       "      <th>S_y1</th>\n",
       "      <th>S_y2</th>\n",
       "      <th>O_x1</th>\n",
       "      <th>O_x2</th>\n",
       "      <th>O_y1</th>\n",
       "      <th>O_y2</th>\n",
       "      <th>S_person</th>\n",
       "      <th>O_apple</th>\n",
       "      <th>...</th>\n",
       "      <th>O_teddy bear</th>\n",
       "      <th>O_tennis racket</th>\n",
       "      <th>O_tie</th>\n",
       "      <th>O_toilet</th>\n",
       "      <th>O_toothbrush</th>\n",
       "      <th>O_truck</th>\n",
       "      <th>O_tv</th>\n",
       "      <th>O_umbrella</th>\n",
       "      <th>O_vase</th>\n",
       "      <th>O_wine glass</th>\n",
       "    </tr>\n",
       "    <tr>\n",
       "      <th>name</th>\n",
       "      <th></th>\n",
       "      <th></th>\n",
       "      <th></th>\n",
       "      <th></th>\n",
       "      <th></th>\n",
       "      <th></th>\n",
       "      <th></th>\n",
       "      <th></th>\n",
       "      <th></th>\n",
       "      <th></th>\n",
       "      <th></th>\n",
       "      <th></th>\n",
       "      <th></th>\n",
       "      <th></th>\n",
       "      <th></th>\n",
       "      <th></th>\n",
       "      <th></th>\n",
       "      <th></th>\n",
       "      <th></th>\n",
       "      <th></th>\n",
       "      <th></th>\n",
       "    </tr>\n",
       "  </thead>\n",
       "  <tbody>\n",
       "    <tr>\n",
       "      <td>937.jpg</td>\n",
       "      <td>0.000000</td>\n",
       "      <td>580.73950</td>\n",
       "      <td>108.774710</td>\n",
       "      <td>1290.63570</td>\n",
       "      <td>595.939200</td>\n",
       "      <td>745.76310</td>\n",
       "      <td>643.717040</td>\n",
       "      <td>1032.31920</td>\n",
       "      <td>1</td>\n",
       "      <td>0</td>\n",
       "      <td>...</td>\n",
       "      <td>0</td>\n",
       "      <td>0</td>\n",
       "      <td>0</td>\n",
       "      <td>0</td>\n",
       "      <td>0</td>\n",
       "      <td>0</td>\n",
       "      <td>0</td>\n",
       "      <td>0</td>\n",
       "      <td>0</td>\n",
       "      <td>0</td>\n",
       "    </tr>\n",
       "    <tr>\n",
       "      <td>apple2.jpg</td>\n",
       "      <td>437.209080</td>\n",
       "      <td>709.56620</td>\n",
       "      <td>59.471880</td>\n",
       "      <td>469.65634</td>\n",
       "      <td>34.247833</td>\n",
       "      <td>187.43901</td>\n",
       "      <td>224.369000</td>\n",
       "      <td>370.28490</td>\n",
       "      <td>1</td>\n",
       "      <td>1</td>\n",
       "      <td>...</td>\n",
       "      <td>0</td>\n",
       "      <td>0</td>\n",
       "      <td>0</td>\n",
       "      <td>0</td>\n",
       "      <td>0</td>\n",
       "      <td>0</td>\n",
       "      <td>0</td>\n",
       "      <td>0</td>\n",
       "      <td>0</td>\n",
       "      <td>0</td>\n",
       "    </tr>\n",
       "    <tr>\n",
       "      <td>bus2.jpg</td>\n",
       "      <td>675.942300</td>\n",
       "      <td>974.58780</td>\n",
       "      <td>322.174320</td>\n",
       "      <td>1075.18960</td>\n",
       "      <td>620.100460</td>\n",
       "      <td>776.94490</td>\n",
       "      <td>597.398800</td>\n",
       "      <td>1030.69150</td>\n",
       "      <td>1</td>\n",
       "      <td>0</td>\n",
       "      <td>...</td>\n",
       "      <td>0</td>\n",
       "      <td>0</td>\n",
       "      <td>0</td>\n",
       "      <td>0</td>\n",
       "      <td>0</td>\n",
       "      <td>0</td>\n",
       "      <td>0</td>\n",
       "      <td>0</td>\n",
       "      <td>0</td>\n",
       "      <td>0</td>\n",
       "    </tr>\n",
       "    <tr>\n",
       "      <td>bowl4.jpg</td>\n",
       "      <td>20.759182</td>\n",
       "      <td>523.50700</td>\n",
       "      <td>33.196377</td>\n",
       "      <td>740.76605</td>\n",
       "      <td>259.642900</td>\n",
       "      <td>533.44790</td>\n",
       "      <td>604.560850</td>\n",
       "      <td>783.21060</td>\n",
       "      <td>1</td>\n",
       "      <td>0</td>\n",
       "      <td>...</td>\n",
       "      <td>0</td>\n",
       "      <td>0</td>\n",
       "      <td>0</td>\n",
       "      <td>0</td>\n",
       "      <td>0</td>\n",
       "      <td>0</td>\n",
       "      <td>0</td>\n",
       "      <td>0</td>\n",
       "      <td>0</td>\n",
       "      <td>0</td>\n",
       "    </tr>\n",
       "    <tr>\n",
       "      <td>car3.jpg</td>\n",
       "      <td>675.471100</td>\n",
       "      <td>801.31177</td>\n",
       "      <td>152.626530</td>\n",
       "      <td>533.64655</td>\n",
       "      <td>29.175459</td>\n",
       "      <td>624.12024</td>\n",
       "      <td>183.948170</td>\n",
       "      <td>478.08682</td>\n",
       "      <td>1</td>\n",
       "      <td>0</td>\n",
       "      <td>...</td>\n",
       "      <td>0</td>\n",
       "      <td>0</td>\n",
       "      <td>0</td>\n",
       "      <td>0</td>\n",
       "      <td>0</td>\n",
       "      <td>0</td>\n",
       "      <td>0</td>\n",
       "      <td>0</td>\n",
       "      <td>0</td>\n",
       "      <td>0</td>\n",
       "    </tr>\n",
       "    <tr>\n",
       "      <td>...</td>\n",
       "      <td>...</td>\n",
       "      <td>...</td>\n",
       "      <td>...</td>\n",
       "      <td>...</td>\n",
       "      <td>...</td>\n",
       "      <td>...</td>\n",
       "      <td>...</td>\n",
       "      <td>...</td>\n",
       "      <td>...</td>\n",
       "      <td>...</td>\n",
       "      <td>...</td>\n",
       "      <td>...</td>\n",
       "      <td>...</td>\n",
       "      <td>...</td>\n",
       "      <td>...</td>\n",
       "      <td>...</td>\n",
       "      <td>...</td>\n",
       "      <td>...</td>\n",
       "      <td>...</td>\n",
       "      <td>...</td>\n",
       "      <td>...</td>\n",
       "    </tr>\n",
       "    <tr>\n",
       "      <td>626.jpg</td>\n",
       "      <td>277.886780</td>\n",
       "      <td>702.59410</td>\n",
       "      <td>76.777610</td>\n",
       "      <td>1267.81030</td>\n",
       "      <td>442.139800</td>\n",
       "      <td>625.07580</td>\n",
       "      <td>666.048000</td>\n",
       "      <td>859.88007</td>\n",
       "      <td>1</td>\n",
       "      <td>0</td>\n",
       "      <td>...</td>\n",
       "      <td>0</td>\n",
       "      <td>0</td>\n",
       "      <td>0</td>\n",
       "      <td>0</td>\n",
       "      <td>0</td>\n",
       "      <td>0</td>\n",
       "      <td>0</td>\n",
       "      <td>0</td>\n",
       "      <td>0</td>\n",
       "      <td>0</td>\n",
       "    </tr>\n",
       "    <tr>\n",
       "      <td>711.jpg</td>\n",
       "      <td>25.858189</td>\n",
       "      <td>244.51111</td>\n",
       "      <td>0.000000</td>\n",
       "      <td>328.40442</td>\n",
       "      <td>202.355510</td>\n",
       "      <td>496.43640</td>\n",
       "      <td>42.081013</td>\n",
       "      <td>327.07144</td>\n",
       "      <td>1</td>\n",
       "      <td>0</td>\n",
       "      <td>...</td>\n",
       "      <td>0</td>\n",
       "      <td>0</td>\n",
       "      <td>0</td>\n",
       "      <td>0</td>\n",
       "      <td>0</td>\n",
       "      <td>0</td>\n",
       "      <td>0</td>\n",
       "      <td>0</td>\n",
       "      <td>0</td>\n",
       "      <td>0</td>\n",
       "    </tr>\n",
       "    <tr>\n",
       "      <td>fork6.jpg</td>\n",
       "      <td>63.738724</td>\n",
       "      <td>517.75520</td>\n",
       "      <td>379.541200</td>\n",
       "      <td>687.12036</td>\n",
       "      <td>103.229950</td>\n",
       "      <td>335.92886</td>\n",
       "      <td>627.682000</td>\n",
       "      <td>694.87950</td>\n",
       "      <td>1</td>\n",
       "      <td>0</td>\n",
       "      <td>...</td>\n",
       "      <td>0</td>\n",
       "      <td>0</td>\n",
       "      <td>0</td>\n",
       "      <td>0</td>\n",
       "      <td>0</td>\n",
       "      <td>0</td>\n",
       "      <td>0</td>\n",
       "      <td>0</td>\n",
       "      <td>0</td>\n",
       "      <td>0</td>\n",
       "    </tr>\n",
       "    <tr>\n",
       "      <td>539.jpg</td>\n",
       "      <td>49.871820</td>\n",
       "      <td>432.20520</td>\n",
       "      <td>0.000000</td>\n",
       "      <td>685.00000</td>\n",
       "      <td>190.090470</td>\n",
       "      <td>240.23938</td>\n",
       "      <td>235.037170</td>\n",
       "      <td>353.40543</td>\n",
       "      <td>1</td>\n",
       "      <td>0</td>\n",
       "      <td>...</td>\n",
       "      <td>0</td>\n",
       "      <td>0</td>\n",
       "      <td>1</td>\n",
       "      <td>0</td>\n",
       "      <td>0</td>\n",
       "      <td>0</td>\n",
       "      <td>0</td>\n",
       "      <td>0</td>\n",
       "      <td>0</td>\n",
       "      <td>0</td>\n",
       "    </tr>\n",
       "    <tr>\n",
       "      <td>toilet1.jpg</td>\n",
       "      <td>136.089080</td>\n",
       "      <td>536.20100</td>\n",
       "      <td>197.668370</td>\n",
       "      <td>816.14844</td>\n",
       "      <td>12.768988</td>\n",
       "      <td>345.54846</td>\n",
       "      <td>373.483300</td>\n",
       "      <td>771.78033</td>\n",
       "      <td>1</td>\n",
       "      <td>0</td>\n",
       "      <td>...</td>\n",
       "      <td>0</td>\n",
       "      <td>0</td>\n",
       "      <td>0</td>\n",
       "      <td>1</td>\n",
       "      <td>0</td>\n",
       "      <td>0</td>\n",
       "      <td>0</td>\n",
       "      <td>0</td>\n",
       "      <td>0</td>\n",
       "      <td>0</td>\n",
       "    </tr>\n",
       "  </tbody>\n",
       "</table>\n",
       "<p>157 rows × 66 columns</p>\n",
       "</div>"
      ],
      "text/plain": [
       "                   S_x1       S_x2        S_y1        S_y2        O_x1  \\\n",
       "name                                                                     \n",
       "937.jpg        0.000000  580.73950  108.774710  1290.63570  595.939200   \n",
       "apple2.jpg   437.209080  709.56620   59.471880   469.65634   34.247833   \n",
       "bus2.jpg     675.942300  974.58780  322.174320  1075.18960  620.100460   \n",
       "bowl4.jpg     20.759182  523.50700   33.196377   740.76605  259.642900   \n",
       "car3.jpg     675.471100  801.31177  152.626530   533.64655   29.175459   \n",
       "...                 ...        ...         ...         ...         ...   \n",
       "626.jpg      277.886780  702.59410   76.777610  1267.81030  442.139800   \n",
       "711.jpg       25.858189  244.51111    0.000000   328.40442  202.355510   \n",
       "fork6.jpg     63.738724  517.75520  379.541200   687.12036  103.229950   \n",
       "539.jpg       49.871820  432.20520    0.000000   685.00000  190.090470   \n",
       "toilet1.jpg  136.089080  536.20100  197.668370   816.14844   12.768988   \n",
       "\n",
       "                  O_x2        O_y1        O_y2  S_person  O_apple  ...  \\\n",
       "name                                                               ...   \n",
       "937.jpg      745.76310  643.717040  1032.31920         1        0  ...   \n",
       "apple2.jpg   187.43901  224.369000   370.28490         1        1  ...   \n",
       "bus2.jpg     776.94490  597.398800  1030.69150         1        0  ...   \n",
       "bowl4.jpg    533.44790  604.560850   783.21060         1        0  ...   \n",
       "car3.jpg     624.12024  183.948170   478.08682         1        0  ...   \n",
       "...                ...         ...         ...       ...      ...  ...   \n",
       "626.jpg      625.07580  666.048000   859.88007         1        0  ...   \n",
       "711.jpg      496.43640   42.081013   327.07144         1        0  ...   \n",
       "fork6.jpg    335.92886  627.682000   694.87950         1        0  ...   \n",
       "539.jpg      240.23938  235.037170   353.40543         1        0  ...   \n",
       "toilet1.jpg  345.54846  373.483300   771.78033         1        0  ...   \n",
       "\n",
       "             O_teddy bear  O_tennis racket  O_tie  O_toilet  O_toothbrush  \\\n",
       "name                                                                        \n",
       "937.jpg                 0                0      0         0             0   \n",
       "apple2.jpg              0                0      0         0             0   \n",
       "bus2.jpg                0                0      0         0             0   \n",
       "bowl4.jpg               0                0      0         0             0   \n",
       "car3.jpg                0                0      0         0             0   \n",
       "...                   ...              ...    ...       ...           ...   \n",
       "626.jpg                 0                0      0         0             0   \n",
       "711.jpg                 0                0      0         0             0   \n",
       "fork6.jpg               0                0      0         0             0   \n",
       "539.jpg                 0                0      1         0             0   \n",
       "toilet1.jpg             0                0      0         1             0   \n",
       "\n",
       "             O_truck  O_tv  O_umbrella  O_vase  O_wine glass  \n",
       "name                                                          \n",
       "937.jpg            0     0           0       0             0  \n",
       "apple2.jpg         0     0           0       0             0  \n",
       "bus2.jpg           0     0           0       0             0  \n",
       "bowl4.jpg          0     0           0       0             0  \n",
       "car3.jpg           0     0           0       0             0  \n",
       "...              ...   ...         ...     ...           ...  \n",
       "626.jpg            0     0           0       0             0  \n",
       "711.jpg            0     0           0       0             0  \n",
       "fork6.jpg          0     0           0       0             0  \n",
       "539.jpg            0     0           0       0             0  \n",
       "toilet1.jpg        0     0           0       0             0  \n",
       "\n",
       "[157 rows x 66 columns]"
      ]
     },
     "execution_count": 11,
     "metadata": {},
     "output_type": "execute_result"
    }
   ],
   "source": [
    "X_test"
   ]
  },
  {
   "cell_type": "code",
   "execution_count": 12,
   "metadata": {
    "colab": {
     "base_uri": "https://localhost:8080/"
    },
    "executionInfo": {
     "elapsed": 283,
     "status": "ok",
     "timestamp": 1623133854145,
     "user": {
      "displayName": "서아연",
      "photoUrl": "",
      "userId": "17724758080386571393"
     },
     "user_tz": -540
    },
    "id": "AfxFDkaBAlhh",
    "outputId": "526e1ce5-5ef0-47a9-cafe-192c2a8ab8ee"
   },
   "outputs": [
    {
     "name": "stdout",
     "output_type": "stream",
     "text": [
      "(625, 66)\n",
      "(157, 66)\n",
      "(625,)\n",
      "(157,)\n"
     ]
    }
   ],
   "source": [
    "print(X_train.shape)\n",
    "print(X_test.shape)\n",
    "print(y_train.shape)\n",
    "print(y_test.shape)"
   ]
  },
  {
   "cell_type": "code",
   "execution_count": 13,
   "metadata": {
    "executionInfo": {
     "elapsed": 5,
     "status": "ok",
     "timestamp": 1623133854146,
     "user": {
      "displayName": "서아연",
      "photoUrl": "",
      "userId": "17724758080386571393"
     },
     "user_tz": -540
    },
    "id": "x6KNhH1cBGGc"
   },
   "outputs": [],
   "source": [
    "result = X_test.index"
   ]
  },
  {
   "cell_type": "markdown",
   "metadata": {},
   "source": [
    "# 분류 모델 사용"
   ]
  },
  {
   "cell_type": "markdown",
   "metadata": {
    "id": "7aVH6-5vSYq9"
   },
   "source": [
    "## KNeighborsClassifier"
   ]
  },
  {
   "cell_type": "code",
   "execution_count": 14,
   "metadata": {
    "id": "QMGCtg0xPw8T"
   },
   "outputs": [],
   "source": [
    "from sklearn.neighbors import KNeighborsClassifier"
   ]
  },
  {
   "cell_type": "code",
   "execution_count": 15,
   "metadata": {
    "id": "674ZuwRGP0Kc"
   },
   "outputs": [],
   "source": [
    "knn = KNeighborsClassifier(n_neighbors=10)"
   ]
  },
  {
   "cell_type": "code",
   "execution_count": 16,
   "metadata": {
    "colab": {
     "base_uri": "https://localhost:8080/"
    },
    "executionInfo": {
     "elapsed": 35,
     "status": "ok",
     "timestamp": 1623126175786,
     "user": {
      "displayName": "서아연",
      "photoUrl": "",
      "userId": "17724758080386571393"
     },
     "user_tz": -540
    },
    "id": "yQ-cIuTYQdzH",
    "outputId": "4dd3449c-bac0-444f-9f9b-9a9742088bbb"
   },
   "outputs": [
    {
     "data": {
      "text/plain": [
       "KNeighborsClassifier(algorithm='auto', leaf_size=30, metric='minkowski',\n",
       "                     metric_params=None, n_jobs=None, n_neighbors=10, p=2,\n",
       "                     weights='uniform')"
      ]
     },
     "execution_count": 16,
     "metadata": {},
     "output_type": "execute_result"
    }
   ],
   "source": [
    "knn.fit(X_train, y_train)"
   ]
  },
  {
   "cell_type": "code",
   "execution_count": 17,
   "metadata": {
    "id": "6oGp3sLZRAHy"
   },
   "outputs": [],
   "source": [
    "knn_prd = knn.predict(X_test)"
   ]
  },
  {
   "cell_type": "code",
   "execution_count": 18,
   "metadata": {
    "colab": {
     "base_uri": "https://localhost:8080/"
    },
    "executionInfo": {
     "elapsed": 9,
     "status": "ok",
     "timestamp": 1623126177726,
     "user": {
      "displayName": "서아연",
      "photoUrl": "",
      "userId": "17724758080386571393"
     },
     "user_tz": -540
    },
    "id": "Lvta0HnjRDbT",
    "outputId": "46fdf97a-c5aa-4199-9179-d2b2d198fe24"
   },
   "outputs": [
    {
     "data": {
      "text/plain": [
       "0.31210191082802546"
      ]
     },
     "execution_count": 18,
     "metadata": {},
     "output_type": "execute_result"
    }
   ],
   "source": [
    "knn.score(X_test, y_test)"
   ]
  },
  {
   "cell_type": "code",
   "execution_count": 19,
   "metadata": {
    "colab": {
     "base_uri": "https://localhost:8080/",
     "height": 419
    },
    "executionInfo": {
     "elapsed": 333,
     "status": "ok",
     "timestamp": 1623126314439,
     "user": {
      "displayName": "서아연",
      "photoUrl": "",
      "userId": "17724758080386571393"
     },
     "user_tz": -540
    },
    "id": "SA6ctSfZBfaG",
    "outputId": "54381cc0-7a25-480d-e7a3-96cc2a1240b9"
   },
   "outputs": [
    {
     "data": {
      "text/html": [
       "<div>\n",
       "<style scoped>\n",
       "    .dataframe tbody tr th:only-of-type {\n",
       "        vertical-align: middle;\n",
       "    }\n",
       "\n",
       "    .dataframe tbody tr th {\n",
       "        vertical-align: top;\n",
       "    }\n",
       "\n",
       "    .dataframe thead th {\n",
       "        text-align: right;\n",
       "    }\n",
       "</style>\n",
       "<table border=\"1\" class=\"dataframe\">\n",
       "  <thead>\n",
       "    <tr style=\"text-align: right;\">\n",
       "      <th></th>\n",
       "      <th>name</th>\n",
       "    </tr>\n",
       "  </thead>\n",
       "  <tbody>\n",
       "    <tr>\n",
       "      <td>is holding a</td>\n",
       "      <td>937.jpg</td>\n",
       "    </tr>\n",
       "    <tr>\n",
       "      <td>is holding a</td>\n",
       "      <td>apple2.jpg</td>\n",
       "    </tr>\n",
       "    <tr>\n",
       "      <td>is wearing a</td>\n",
       "      <td>bus2.jpg</td>\n",
       "    </tr>\n",
       "    <tr>\n",
       "      <td>is holding a</td>\n",
       "      <td>bowl4.jpg</td>\n",
       "    </tr>\n",
       "    <tr>\n",
       "      <td>is getting into</td>\n",
       "      <td>car3.jpg</td>\n",
       "    </tr>\n",
       "    <tr>\n",
       "      <td>...</td>\n",
       "      <td>...</td>\n",
       "    </tr>\n",
       "    <tr>\n",
       "      <td>is holding a</td>\n",
       "      <td>626.jpg</td>\n",
       "    </tr>\n",
       "    <tr>\n",
       "      <td>is holding a</td>\n",
       "      <td>711.jpg</td>\n",
       "    </tr>\n",
       "    <tr>\n",
       "      <td>is holding a</td>\n",
       "      <td>fork6.jpg</td>\n",
       "    </tr>\n",
       "    <tr>\n",
       "      <td>is using a</td>\n",
       "      <td>539.jpg</td>\n",
       "    </tr>\n",
       "    <tr>\n",
       "      <td>is holding a</td>\n",
       "      <td>toilet1.jpg</td>\n",
       "    </tr>\n",
       "  </tbody>\n",
       "</table>\n",
       "<p>157 rows × 1 columns</p>\n",
       "</div>"
      ],
      "text/plain": [
       "                        name\n",
       "is holding a         937.jpg\n",
       "is holding a      apple2.jpg\n",
       "is wearing a        bus2.jpg\n",
       "is holding a       bowl4.jpg\n",
       "is getting into     car3.jpg\n",
       "...                      ...\n",
       "is holding a         626.jpg\n",
       "is holding a         711.jpg\n",
       "is holding a       fork6.jpg\n",
       "is using a           539.jpg\n",
       "is holding a     toilet1.jpg\n",
       "\n",
       "[157 rows x 1 columns]"
      ]
     },
     "execution_count": 19,
     "metadata": {},
     "output_type": "execute_result"
    }
   ],
   "source": [
    "result_knn = pd.DataFrame(result, knn_prd)\n",
    "result_knn"
   ]
  },
  {
   "cell_type": "markdown",
   "metadata": {
    "id": "yvLdCsBlSc28"
   },
   "source": [
    "## 분류용 선형 모델"
   ]
  },
  {
   "cell_type": "code",
   "execution_count": 20,
   "metadata": {
    "id": "lAn5s1STR7qA"
   },
   "outputs": [],
   "source": [
    "from sklearn.linear_model import LogisticRegression"
   ]
  },
  {
   "cell_type": "code",
   "execution_count": 21,
   "metadata": {
    "id": "Ma3OzLf2SpH0"
   },
   "outputs": [],
   "source": [
    "logreg = LogisticRegression()"
   ]
  },
  {
   "cell_type": "code",
   "execution_count": 22,
   "metadata": {
    "colab": {
     "base_uri": "https://localhost:8080/"
    },
    "executionInfo": {
     "elapsed": 550,
     "status": "ok",
     "timestamp": 1623126325574,
     "user": {
      "displayName": "서아연",
      "photoUrl": "",
      "userId": "17724758080386571393"
     },
     "user_tz": -540
    },
    "id": "yUmJxXgmSv2S",
    "outputId": "6435db7c-9ac4-48bd-aa17-65935a826109"
   },
   "outputs": [
    {
     "name": "stderr",
     "output_type": "stream",
     "text": [
      "C:\\ProgramData\\Anaconda3\\lib\\site-packages\\sklearn\\linear_model\\logistic.py:432: FutureWarning: Default solver will be changed to 'lbfgs' in 0.22. Specify a solver to silence this warning.\n",
      "  FutureWarning)\n",
      "C:\\ProgramData\\Anaconda3\\lib\\site-packages\\sklearn\\linear_model\\logistic.py:469: FutureWarning: Default multi_class will be changed to 'auto' in 0.22. Specify the multi_class option to silence this warning.\n",
      "  \"this warning.\", FutureWarning)\n"
     ]
    },
    {
     "data": {
      "text/plain": [
       "LogisticRegression(C=1.0, class_weight=None, dual=False, fit_intercept=True,\n",
       "                   intercept_scaling=1, l1_ratio=None, max_iter=100,\n",
       "                   multi_class='warn', n_jobs=None, penalty='l2',\n",
       "                   random_state=None, solver='warn', tol=0.0001, verbose=0,\n",
       "                   warm_start=False)"
      ]
     },
     "execution_count": 22,
     "metadata": {},
     "output_type": "execute_result"
    }
   ],
   "source": [
    "logreg.fit(X_train, y_train)"
   ]
  },
  {
   "cell_type": "code",
   "execution_count": 23,
   "metadata": {
    "id": "ZE8lwojBBxcs"
   },
   "outputs": [],
   "source": [
    "logreg_prd = logreg.predict(X_test)"
   ]
  },
  {
   "cell_type": "code",
   "execution_count": 24,
   "metadata": {
    "colab": {
     "base_uri": "https://localhost:8080/"
    },
    "executionInfo": {
     "elapsed": 13,
     "status": "ok",
     "timestamp": 1623126325896,
     "user": {
      "displayName": "서아연",
      "photoUrl": "",
      "userId": "17724758080386571393"
     },
     "user_tz": -540
    },
    "id": "kh2UTD7DSyy6",
    "outputId": "5f14923e-ba37-4388-cb9c-e173562f38a3"
   },
   "outputs": [
    {
     "data": {
      "text/plain": [
       "0.8016"
      ]
     },
     "execution_count": 24,
     "metadata": {},
     "output_type": "execute_result"
    }
   ],
   "source": [
    "logreg.score(X_train, y_train) # 훈련 세트 점수"
   ]
  },
  {
   "cell_type": "code",
   "execution_count": 25,
   "metadata": {
    "colab": {
     "base_uri": "https://localhost:8080/"
    },
    "executionInfo": {
     "elapsed": 13,
     "status": "ok",
     "timestamp": 1623126326292,
     "user": {
      "displayName": "서아연",
      "photoUrl": "",
      "userId": "17724758080386571393"
     },
     "user_tz": -540
    },
    "id": "gzY0cyheS4tP",
    "outputId": "8c07cb4d-9366-44d9-add7-0498a41f152c"
   },
   "outputs": [
    {
     "data": {
      "text/plain": [
       "0.6242038216560509"
      ]
     },
     "execution_count": 25,
     "metadata": {},
     "output_type": "execute_result"
    }
   ],
   "source": [
    "logreg.score(X_test, y_test) # 테스트 세트 점수"
   ]
  },
  {
   "cell_type": "markdown",
   "metadata": {
    "id": "WX3P-N4fTJQ-"
   },
   "source": [
    "## 다중 클래스 분류용 선형 모델"
   ]
  },
  {
   "cell_type": "code",
   "execution_count": 26,
   "metadata": {
    "id": "J5iit5UrTAtW"
   },
   "outputs": [],
   "source": [
    "from sklearn.svm import LinearSVC"
   ]
  },
  {
   "cell_type": "code",
   "execution_count": 27,
   "metadata": {
    "id": "Spjgdum8TP4p"
   },
   "outputs": [],
   "source": [
    "linear_svm = LinearSVC()"
   ]
  },
  {
   "cell_type": "code",
   "execution_count": 28,
   "metadata": {
    "colab": {
     "base_uri": "https://localhost:8080/"
    },
    "executionInfo": {
     "elapsed": 412,
     "status": "ok",
     "timestamp": 1623126349517,
     "user": {
      "displayName": "서아연",
      "photoUrl": "",
      "userId": "17724758080386571393"
     },
     "user_tz": -540
    },
    "id": "jviFHZUzTUdW",
    "outputId": "8526e35a-0ac5-42fe-b9d3-246c58938cfd"
   },
   "outputs": [
    {
     "name": "stderr",
     "output_type": "stream",
     "text": [
      "C:\\ProgramData\\Anaconda3\\lib\\site-packages\\sklearn\\svm\\base.py:929: ConvergenceWarning: Liblinear failed to converge, increase the number of iterations.\n",
      "  \"the number of iterations.\", ConvergenceWarning)\n"
     ]
    },
    {
     "data": {
      "text/plain": [
       "LinearSVC(C=1.0, class_weight=None, dual=True, fit_intercept=True,\n",
       "          intercept_scaling=1, loss='squared_hinge', max_iter=1000,\n",
       "          multi_class='ovr', penalty='l2', random_state=None, tol=0.0001,\n",
       "          verbose=0)"
      ]
     },
     "execution_count": 28,
     "metadata": {},
     "output_type": "execute_result"
    }
   ],
   "source": [
    "linear_svm.fit(X_train, y_train)"
   ]
  },
  {
   "cell_type": "code",
   "execution_count": 29,
   "metadata": {
    "id": "bDb1tQpuCDYR"
   },
   "outputs": [],
   "source": [
    "linear_svm_prd = linear_svm.predict(X_test)"
   ]
  },
  {
   "cell_type": "code",
   "execution_count": 30,
   "metadata": {
    "colab": {
     "base_uri": "https://localhost:8080/"
    },
    "executionInfo": {
     "elapsed": 217,
     "status": "ok",
     "timestamp": 1623126356409,
     "user": {
      "displayName": "서아연",
      "photoUrl": "",
      "userId": "17724758080386571393"
     },
     "user_tz": -540
    },
    "id": "HMlHex6XTdR0",
    "outputId": "3ac9e921-7eae-4ac9-ded5-54b1c3ed4bec"
   },
   "outputs": [
    {
     "data": {
      "text/plain": [
       "0.11464968152866242"
      ]
     },
     "execution_count": 30,
     "metadata": {},
     "output_type": "execute_result"
    }
   ],
   "source": [
    "linear_svm.score(X_test, y_test)"
   ]
  },
  {
   "cell_type": "code",
   "execution_count": 31,
   "metadata": {
    "colab": {
     "base_uri": "https://localhost:8080/"
    },
    "executionInfo": {
     "elapsed": 13,
     "status": "ok",
     "timestamp": 1623126357355,
     "user": {
      "displayName": "서아연",
      "photoUrl": "",
      "userId": "17724758080386571393"
     },
     "user_tz": -540
    },
    "id": "Sjcgmb77Tm7u",
    "outputId": "f76c0162-a20b-45f7-a3c5-cd9bc8101e6c"
   },
   "outputs": [
    {
     "data": {
      "text/plain": [
       "0.1424"
      ]
     },
     "execution_count": 31,
     "metadata": {},
     "output_type": "execute_result"
    }
   ],
   "source": [
    "linear_svm.score(X_train, y_train)"
   ]
  },
  {
   "cell_type": "markdown",
   "metadata": {
    "id": "_pyXHdx9T0it"
   },
   "source": [
    "## 결정트리"
   ]
  },
  {
   "cell_type": "code",
   "execution_count": 32,
   "metadata": {
    "id": "Ft6PtKYzTpt2"
   },
   "outputs": [],
   "source": [
    "from sklearn.tree import DecisionTreeClassifier"
   ]
  },
  {
   "cell_type": "code",
   "execution_count": 33,
   "metadata": {
    "id": "iOC3U8LmT-ii"
   },
   "outputs": [],
   "source": [
    "dt = DecisionTreeClassifier(random_state=0)"
   ]
  },
  {
   "cell_type": "code",
   "execution_count": 34,
   "metadata": {
    "colab": {
     "base_uri": "https://localhost:8080/"
    },
    "executionInfo": {
     "elapsed": 13,
     "status": "ok",
     "timestamp": 1623126359733,
     "user": {
      "displayName": "서아연",
      "photoUrl": "",
      "userId": "17724758080386571393"
     },
     "user_tz": -540
    },
    "id": "bmCUvk19UB19",
    "outputId": "eb4529c5-2cb3-402b-f2ff-8dc0eef374eb"
   },
   "outputs": [
    {
     "data": {
      "text/plain": [
       "DecisionTreeClassifier(class_weight=None, criterion='gini', max_depth=None,\n",
       "                       max_features=None, max_leaf_nodes=None,\n",
       "                       min_impurity_decrease=0.0, min_impurity_split=None,\n",
       "                       min_samples_leaf=1, min_samples_split=2,\n",
       "                       min_weight_fraction_leaf=0.0, presort=False,\n",
       "                       random_state=0, splitter='best')"
      ]
     },
     "execution_count": 34,
     "metadata": {},
     "output_type": "execute_result"
    }
   ],
   "source": [
    "dt.fit(X_train, y_train)"
   ]
  },
  {
   "cell_type": "code",
   "execution_count": 35,
   "metadata": {
    "colab": {
     "base_uri": "https://localhost:8080/",
     "height": 226
    },
    "executionInfo": {
     "elapsed": 19,
     "status": "error",
     "timestamp": 1623126360155,
     "user": {
      "displayName": "서아연",
      "photoUrl": "",
      "userId": "17724758080386571393"
     },
     "user_tz": -540
    },
    "id": "SLzYz4RLCUs2",
    "outputId": "f9a71376-35b3-4699-eeca-e5b4cb7b9956"
   },
   "outputs": [
    {
     "data": {
      "text/plain": [
       "array(['is holding a', 'is holding an', 'is carrying a', 'is using a',\n",
       "       'is getting into', 'is using a', 'is sitting on a',\n",
       "       'is sitting next to a', 'is standing on a', 'is sitting on a',\n",
       "       'is wearing a', 'is holding a', 'is riding a', 'is wearing a',\n",
       "       'is watching a', 'is holding a', 'is swing a', 'is using a',\n",
       "       'is getting into a', 'is holding a', 'is waiting for a',\n",
       "       'is sitting on a', 'is watering a', 'is using a', 'is holding a',\n",
       "       'is lying on a', 'is lying on a', 'is riding a',\n",
       "       'is standing in front of', 'is using a', 'is cleaning a',\n",
       "       'is holding a', 'is reading a', 'is using a', 'is getting into',\n",
       "       ' is standing in front of', 'is holding a', 'is holding a',\n",
       "       ' is standing in front of', 'is riding a', 'is eating an',\n",
       "       'is standing on a', 'is holding a', 'is holding a', 'is holding a',\n",
       "       'is lying on a', 'is getting into a', 'is wearing a',\n",
       "       'is holding a', 'is standing on a', 'is watering a',\n",
       "       'is standing with a', 'is riding a', 'is holding a',\n",
       "       'is holding a', 'is getting into a', 'is sitting on a',\n",
       "       'is holding a', 'is sitting next to a', 'is carrying a',\n",
       "       'is using a', 'is wearing a', 'is riding a', 'is eating an',\n",
       "       'is getting into a', 'is eating a', 'is holding a',\n",
       "       'is sitting with a', 'is riding a', 'is holding a',\n",
       "       'is lying on a', 'is sitting next to a', 'is reading a',\n",
       "       'is standing with a', 'is using a', 'is using a', 'is holding a',\n",
       "       'is wearing a', 'is getting into a', 'is eating a', 'is using an',\n",
       "       'is holding a', 'is cleaning an', 'is standing with a',\n",
       "       'is holding a', 'is holding a', 'is holding a', 'is holding a',\n",
       "       'is standing on a', 'is eating an', 'is holding a', 'is holding a',\n",
       "       'is using a', 'is riding a', 'is getting into a',\n",
       "       'is playing with a', 'is using a', 'is holding a', 'is using a',\n",
       "       'is holding a', 'is swing a', 'is lying next to a', 'is using a',\n",
       "       'is sitting on a', 'is wearing a', 'is riding a',\n",
       "       'is sitting next to a', 'is holding a', 'is holding a',\n",
       "       'is watching a', 'is using a', 'is wearing a', 'is holding a',\n",
       "       'is swing a', 'is holding a', 'is sitting on a', 'is holding a',\n",
       "       'is sitting on a', 'is riding a', 'is lying on a', 'is holding a',\n",
       "       'is sitting with a', 'is eating a', 'is getting into a',\n",
       "       'is holding a', 'is standing on a', 'is eating a', 'is holding a',\n",
       "       'is using a', 'is using a', 'is using a', 'is sitting with a',\n",
       "       'is wearing a', 'is wearing a', 'is wearing a', 'is standing on a',\n",
       "       'is sitting with a', 'is holding a', 'is wearing a',\n",
       "       'is sitting on a', 'is waiting for a', 'is standing on a',\n",
       "       'is using a', 'is getting out of a', 'is riding a', 'is eating a',\n",
       "       'is standing with a', 'is using a', 'is wearing a', 'is using a',\n",
       "       'is wearing a', 'is holding a', 'is wearing a', 'is holding a',\n",
       "       'is wearing a', 'is wearing a', 'is sitting on a'], dtype=object)"
      ]
     },
     "execution_count": 35,
     "metadata": {},
     "output_type": "execute_result"
    }
   ],
   "source": [
    "dt.predict(X_test)"
   ]
  },
  {
   "cell_type": "code",
   "execution_count": 36,
   "metadata": {
    "id": "lNQb47iVUEbI"
   },
   "outputs": [
    {
     "data": {
      "text/plain": [
       "1.0"
      ]
     },
     "execution_count": 36,
     "metadata": {},
     "output_type": "execute_result"
    }
   ],
   "source": [
    "dt.score(X_train, y_train)"
   ]
  },
  {
   "cell_type": "code",
   "execution_count": 37,
   "metadata": {
    "colab": {
     "base_uri": "https://localhost:8080/"
    },
    "executionInfo": {
     "elapsed": 9,
     "status": "ok",
     "timestamp": 1623126360445,
     "user": {
      "displayName": "서아연",
      "photoUrl": "",
      "userId": "17724758080386571393"
     },
     "user_tz": -540
    },
    "id": "kKdY-ChHUHd6",
    "outputId": "760effb3-b7cd-43e2-eb2c-00237e7a4ec9"
   },
   "outputs": [
    {
     "data": {
      "text/plain": [
       "0.5796178343949044"
      ]
     },
     "execution_count": 37,
     "metadata": {},
     "output_type": "execute_result"
    }
   ],
   "source": [
    "dt.score(X_test, y_test)"
   ]
  },
  {
   "cell_type": "code",
   "execution_count": 38,
   "metadata": {
    "colab": {
     "base_uri": "https://localhost:8080/"
    },
    "executionInfo": {
     "elapsed": 262,
     "status": "ok",
     "timestamp": 1623126363660,
     "user": {
      "displayName": "서아연",
      "photoUrl": "",
      "userId": "17724758080386571393"
     },
     "user_tz": -540
    },
    "id": "c-lNKrKjUJMy",
    "outputId": "af432c46-77e0-4445-d99f-8cf5e9a73d4a"
   },
   "outputs": [
    {
     "name": "stdout",
     "output_type": "stream",
     "text": [
      "특성 중요도:  [0.04734378 0.03935828 0.04551587 0.06797009 0.06022251 0.0445102\n",
      " 0.04247262 0.03149571 0.         0.00871689 0.         0.\n",
      " 0.00424268 0.03076142 0.         0.02584357 0.01640944 0.03371953\n",
      " 0.03640957 0.0050797  0.         0.         0.00332302 0.01239062\n",
      " 0.01201363 0.01430763 0.00182729 0.00897389 0.01663439 0.\n",
      " 0.01623294 0.         0.         0.00937488 0.00601603 0.\n",
      " 0.00967986 0.01653925 0.00914477 0.00514705 0.01292947 0.00575259\n",
      " 0.04046818 0.01316412 0.         0.0146605  0.         0.01236931\n",
      " 0.         0.0131485  0.00703618 0.         0.         0.\n",
      " 0.         0.         0.00365459 0.00979998 0.08036525 0.01407988\n",
      " 0.02498521 0.00871446 0.01804434 0.02702688 0.00691449 0.00520897]\n"
     ]
    }
   ],
   "source": [
    "print(\"특성 중요도: \", dt.feature_importances_)"
   ]
  },
  {
   "cell_type": "markdown",
   "metadata": {
    "id": "u_xkmP5oU17C"
   },
   "source": [
    "## RandomForest"
   ]
  },
  {
   "cell_type": "code",
   "execution_count": 39,
   "metadata": {
    "executionInfo": {
     "elapsed": 5,
     "status": "ok",
     "timestamp": 1623133854146,
     "user": {
      "displayName": "서아연",
      "photoUrl": "",
      "userId": "17724758080386571393"
     },
     "user_tz": -540
    },
    "id": "RzsqPR3mUuBC"
   },
   "outputs": [],
   "source": [
    "from sklearn.ensemble import RandomForestClassifier\n",
    "from sklearn.model_selection import GridSearchCV"
   ]
  },
  {
   "cell_type": "code",
   "execution_count": 40,
   "metadata": {
    "id": "pe-F5ajoDmr4"
   },
   "outputs": [],
   "source": [
    "params = { 'n_estimators' : [100, 150, 125, 175, 200],\n",
    "           'max_depth' : [28, 30, 32, 36, 40],\n",
    "           'min_samples_leaf' : [1, 2, 4],\n",
    "           'min_samples_split' : [0.05, 0.1, 0.15, 0.2]\n",
    "            }"
   ]
  },
  {
   "cell_type": "code",
   "execution_count": 41,
   "metadata": {
    "id": "lTPl8ey2VjZ4"
   },
   "outputs": [],
   "source": [
    "rf = RandomForestClassifier(random_state=0, n_jobs=-1)\n",
    "grid = GridSearchCV(rf, param_grid = params, cv = 3, n_jobs = -1)"
   ]
  },
  {
   "cell_type": "code",
   "execution_count": 42,
   "metadata": {
    "colab": {
     "base_uri": "https://localhost:8080/"
    },
    "executionInfo": {
     "elapsed": 328771,
     "status": "ok",
     "timestamp": 1623131972619,
     "user": {
      "displayName": "서아연",
      "photoUrl": "",
      "userId": "17724758080386571393"
     },
     "user_tz": -540
    },
    "id": "gShWCBOkC-Gi",
    "outputId": "56c356d6-79b4-4cd4-d9b8-e644954b1355"
   },
   "outputs": [
    {
     "name": "stderr",
     "output_type": "stream",
     "text": [
      "C:\\ProgramData\\Anaconda3\\lib\\site-packages\\sklearn\\model_selection\\_split.py:657: Warning: The least populated class in y has only 1 members, which is too few. The minimum number of members in any class cannot be less than n_splits=3.\n",
      "  % (min_groups, self.n_splits)), Warning)\n"
     ]
    },
    {
     "name": "stdout",
     "output_type": "stream",
     "text": [
      "최적 하이퍼 파라미터:  {'max_depth': 30, 'min_samples_leaf': 1, 'min_samples_split': 0.05, 'n_estimators': 125}\n",
      "최고 예측 정확도: 0.6400\n"
     ]
    },
    {
     "name": "stderr",
     "output_type": "stream",
     "text": [
      "C:\\ProgramData\\Anaconda3\\lib\\site-packages\\sklearn\\model_selection\\_search.py:814: DeprecationWarning: The default of the `iid` parameter will change from True to False in version 0.22 and will be removed in 0.24. This will change numeric results when test-set sizes are unequal.\n",
      "  DeprecationWarning)\n"
     ]
    }
   ],
   "source": [
    "grid.fit(X_train, y_train)\n",
    "\n",
    "print('최적 하이퍼 파라미터: ', grid.best_params_)\n",
    "print('최고 예측 정확도: {:.4f}'.format(grid.best_score_))"
   ]
  },
  {
   "cell_type": "code",
   "execution_count": 43,
   "metadata": {
    "executionInfo": {
     "elapsed": 6,
     "status": "ok",
     "timestamp": 1623133854147,
     "user": {
      "displayName": "서아연",
      "photoUrl": "",
      "userId": "17724758080386571393"
     },
     "user_tz": -540
    },
    "id": "fuR0N_Z1JfDl"
   },
   "outputs": [],
   "source": [
    "rf = RandomForestClassifier(random_state=0, n_jobs=-1,\n",
    "                           max_depth = 30,\n",
    "                           min_samples_leaf=1,\n",
    "                           min_samples_split=0.05,\n",
    "                           n_estimators=125)"
   ]
  },
  {
   "cell_type": "code",
   "execution_count": 44,
   "metadata": {},
   "outputs": [],
   "source": [
    "rf = RandomForestClassifier(random_state=0, n_jobs=-1)"
   ]
  },
  {
   "cell_type": "code",
   "execution_count": 45,
   "metadata": {
    "colab": {
     "base_uri": "https://localhost:8080/"
    },
    "executionInfo": {
     "elapsed": 298,
     "status": "ok",
     "timestamp": 1623133854440,
     "user": {
      "displayName": "서아연",
      "photoUrl": "",
      "userId": "17724758080386571393"
     },
     "user_tz": -540
    },
    "id": "3K7lDGV8Vu-E",
    "outputId": "cb9b55a1-d2f7-49cb-f1d6-3e679116e46f"
   },
   "outputs": [
    {
     "name": "stderr",
     "output_type": "stream",
     "text": [
      "C:\\ProgramData\\Anaconda3\\lib\\site-packages\\sklearn\\ensemble\\forest.py:245: FutureWarning: The default value of n_estimators will change from 10 in version 0.20 to 100 in 0.22.\n",
      "  \"10 in version 0.20 to 100 in 0.22.\", FutureWarning)\n"
     ]
    },
    {
     "data": {
      "text/plain": [
       "RandomForestClassifier(bootstrap=True, class_weight=None, criterion='gini',\n",
       "                       max_depth=None, max_features='auto', max_leaf_nodes=None,\n",
       "                       min_impurity_decrease=0.0, min_impurity_split=None,\n",
       "                       min_samples_leaf=1, min_samples_split=2,\n",
       "                       min_weight_fraction_leaf=0.0, n_estimators=10, n_jobs=-1,\n",
       "                       oob_score=False, random_state=0, verbose=0,\n",
       "                       warm_start=False)"
      ]
     },
     "execution_count": 45,
     "metadata": {},
     "output_type": "execute_result"
    }
   ],
   "source": [
    "rf.fit(X_train, y_train)"
   ]
  },
  {
   "cell_type": "code",
   "execution_count": 46,
   "metadata": {
    "executionInfo": {
     "elapsed": 2,
     "status": "ok",
     "timestamp": 1623133854440,
     "user": {
      "displayName": "서아연",
      "photoUrl": "",
      "userId": "17724758080386571393"
     },
     "user_tz": -540
    },
    "id": "nuL75mvIV0kh"
   },
   "outputs": [
    {
     "data": {
      "text/plain": [
       "array(['is holding a', 'is eating an', 'is carrying a', 'is using a',\n",
       "       'is getting into', 'is using a', 'is sitting on a', 'is holding a',\n",
       "       'is watering a', 'is sitting on a', 'is wearing a', 'is holding a',\n",
       "       'is riding a', 'is wearing a', 'is using a', 'is eating a',\n",
       "       'is swing a', 'is using a', 'is waiting for a', 'is holding a',\n",
       "       'is waiting for a', 'is sitting on a', 'is holding a',\n",
       "       'is using a', 'is holding a', 'is lying on a', 'is lying on a',\n",
       "       'is riding a', 'is getting into a', 'is using a', 'is cleaning a',\n",
       "       'is holding a', 'is using a', 'is using a', 'is getting into',\n",
       "       'is sitting next to a', 'is holding a', 'is holding a',\n",
       "       ' is standing in front of', 'is riding a', 'is eating an',\n",
       "       'is standing on a', 'is holding a', 'is holding a', 'is holding a',\n",
       "       'is lying on a', 'is getting into a', 'is wearing a',\n",
       "       'is holding a', 'is standing on a', 'is holding a',\n",
       "       'is standing with a', 'is riding a', 'is holding a',\n",
       "       'is holding a', 'is waiting for a', 'is sitting on a',\n",
       "       'is holding a', 'is swing a', 'is carrying a', 'is using a',\n",
       "       'is wearing a', 'is riding a', 'is using a', 'is getting out of a',\n",
       "       'is holding a', 'is holding a', 'is holding a', 'is riding a',\n",
       "       'is holding a', 'is lying on a', 'is lying next to a',\n",
       "       'is holding a', 'is riding a', 'is holding a', 'is using a',\n",
       "       'is holding a', 'is wearing a', 'is getting into a',\n",
       "       'is holding a', 'is using an', 'is holding a', 'is using an',\n",
       "       'is holding a', 'is holding a', 'is holding a', 'is holding a',\n",
       "       'is holding a', 'is standing on a', 'is eating an', 'is holding a',\n",
       "       'is holding a', 'is using a', 'is riding a', 'is holding a',\n",
       "       'is holding a', 'is getting into', 'is holding a', 'is using a',\n",
       "       'is holding a', 'is holding a', 'is lying next to a', 'is using a',\n",
       "       'is sitting on a', 'is wearing a', 'is riding a',\n",
       "       'is sitting next to a', 'is holding a', 'is holding a',\n",
       "       'is watching a', 'is holding a', 'is wearing a', 'is holding a',\n",
       "       'is holding a', 'is holding a', 'is sitting on a', 'is holding a',\n",
       "       'is sitting on a', 'is riding a', 'is lying on a', 'is holding a',\n",
       "       'is using a', 'is holding a', 'is holding a', 'is eating a',\n",
       "       'is standing on a', 'is eating a', 'is using a', 'is using a',\n",
       "       'is using a', 'is holding a', 'is holding a', 'is wearing a',\n",
       "       'is wearing a', 'is wearing a', 'is standing on a', 'is holding a',\n",
       "       'is holding a', 'is wearing a', 'is using a',\n",
       "       'is getting out of a', 'is swing a', 'is using a', 'is holding a',\n",
       "       'is riding a', 'is holding a', 'is standing with a',\n",
       "       'is holding a', 'is wearing a', 'is using a', 'is wearing a',\n",
       "       'is holding a', 'is wearing a', 'is holding a', 'is using a',\n",
       "       'is wearing a', 'is sitting on a'], dtype=object)"
      ]
     },
     "execution_count": 46,
     "metadata": {},
     "output_type": "execute_result"
    }
   ],
   "source": [
    "rf.predict(X_test)"
   ]
  },
  {
   "cell_type": "code",
   "execution_count": 47,
   "metadata": {
    "colab": {
     "base_uri": "https://localhost:8080/",
     "height": 298
    },
    "executionInfo": {
     "elapsed": 331,
     "status": "error",
     "timestamp": 1623133854769,
     "user": {
      "displayName": "서아연",
      "photoUrl": "",
      "userId": "17724758080386571393"
     },
     "user_tz": -540
    },
    "id": "pN0yOURiWAbI",
    "outputId": "81627f4b-4fc1-4354-b5c7-e40b15634f8a"
   },
   "outputs": [
    {
     "data": {
      "text/plain": [
       "0.6050955414012739"
      ]
     },
     "execution_count": 47,
     "metadata": {},
     "output_type": "execute_result"
    }
   ],
   "source": [
    "rf.score(X_test, y_test)"
   ]
  },
  {
   "cell_type": "code",
   "execution_count": 48,
   "metadata": {
    "executionInfo": {
     "elapsed": 7,
     "status": "aborted",
     "timestamp": 1623133854768,
     "user": {
      "displayName": "서아연",
      "photoUrl": "",
      "userId": "17724758080386571393"
     },
     "user_tz": -540
    },
    "id": "dAIrZryQWG4z"
   },
   "outputs": [
    {
     "data": {
      "text/plain": [
       "0.992"
      ]
     },
     "execution_count": 48,
     "metadata": {},
     "output_type": "execute_result"
    }
   ],
   "source": [
    "rf.score(X_train, y_train)"
   ]
  },
  {
   "cell_type": "markdown",
   "metadata": {
    "id": "ER3mSF9sWPUo"
   },
   "source": [
    "# 그레이디언트부스팅"
   ]
  },
  {
   "cell_type": "code",
   "execution_count": 49,
   "metadata": {
    "executionInfo": {
     "elapsed": 7,
     "status": "aborted",
     "timestamp": 1623133854768,
     "user": {
      "displayName": "서아연",
      "photoUrl": "",
      "userId": "17724758080386571393"
     },
     "user_tz": -540
    },
    "id": "4YW9nQfqWIk4"
   },
   "outputs": [],
   "source": [
    "from sklearn.ensemble import GradientBoostingClassifier\n",
    "from sklearn.model_selection import GridSearchCV"
   ]
  },
  {
   "cell_type": "code",
   "execution_count": 50,
   "metadata": {
    "id": "mk73zs_UKdrp"
   },
   "outputs": [],
   "source": [
    "params = { 'n_estimators' : [50, 100],\n",
    "           'max_depth' : [30,36],\n",
    "           'min_samples_leaf' : [1, 2, 4],\n",
    "           'min_samples_split' : [0.05, 0.5, 1.0],\n",
    "           'learning_rate': [0.05, 0.1, 0.2]\n",
    "            }"
   ]
  },
  {
   "cell_type": "code",
   "execution_count": 51,
   "metadata": {
    "id": "UlswUpeXWaNC"
   },
   "outputs": [],
   "source": [
    "gbrt = GradientBoostingClassifier(random_state=0)\n",
    "grid = GridSearchCV(gbrt, param_grid = params, cv = 3, n_jobs = -1)"
   ]
  },
  {
   "cell_type": "code",
   "execution_count": 52,
   "metadata": {
    "colab": {
     "base_uri": "https://localhost:8080/",
     "height": 432
    },
    "executionInfo": {
     "elapsed": 49644,
     "status": "error",
     "timestamp": 1623133853569,
     "user": {
      "displayName": "서아연",
      "photoUrl": "",
      "userId": "17724758080386571393"
     },
     "user_tz": -540
    },
    "id": "mQ951s6pOc-7",
    "outputId": "db80172f-04c8-459c-953d-f0106fe1ca56"
   },
   "outputs": [
    {
     "name": "stderr",
     "output_type": "stream",
     "text": [
      "C:\\ProgramData\\Anaconda3\\lib\\site-packages\\sklearn\\model_selection\\_split.py:657: Warning: The least populated class in y has only 1 members, which is too few. The minimum number of members in any class cannot be less than n_splits=3.\n",
      "  % (min_groups, self.n_splits)), Warning)\n",
      "C:\\ProgramData\\Anaconda3\\lib\\site-packages\\sklearn\\model_selection\\_search.py:814: DeprecationWarning: The default of the `iid` parameter will change from True to False in version 0.22 and will be removed in 0.24. This will change numeric results when test-set sizes are unequal.\n",
      "  DeprecationWarning)\n"
     ]
    },
    {
     "name": "stdout",
     "output_type": "stream",
     "text": [
      "최적 하이퍼 파라미터:  {'learning_rate': 0.1, 'max_depth': 30, 'min_samples_leaf': 1, 'min_samples_split': 1.0, 'n_estimators': 100}\n",
      "최고 예측 정확도: 0.7216\n"
     ]
    }
   ],
   "source": [
    "grid.fit(X_train, y_train)\n",
    "\n",
    "print('최적 하이퍼 파라미터: ', grid.best_params_)\n",
    "print('최고 예측 정확도: {:.4f}'.format(grid.best_score_))"
   ]
  },
  {
   "cell_type": "code",
   "execution_count": 53,
   "metadata": {},
   "outputs": [],
   "source": [
    "gbrt = GradientBoostingClassifier(random_state=0, \n",
    "                                 learning_rate=0.1,\n",
    "                                 max_depth=36,\n",
    "                                 min_samples_leaf=1,\n",
    "                                 min_samples_split=0.5,\n",
    "                                 n_estimators=50)"
   ]
  },
  {
   "cell_type": "code",
   "execution_count": 54,
   "metadata": {
    "colab": {
     "base_uri": "https://localhost:8080/"
    },
    "executionInfo": {
     "elapsed": 6851,
     "status": "ok",
     "timestamp": 1623126399367,
     "user": {
      "displayName": "서아연",
      "photoUrl": "",
      "userId": "17724758080386571393"
     },
     "user_tz": -540
    },
    "id": "7zCrI2U0Wd7T",
    "outputId": "bfe0d8c6-fb37-4ac7-a56f-3240e280c7b3"
   },
   "outputs": [
    {
     "data": {
      "text/plain": [
       "GradientBoostingClassifier(criterion='friedman_mse', init=None,\n",
       "                           learning_rate=0.1, loss='deviance', max_depth=36,\n",
       "                           max_features=None, max_leaf_nodes=None,\n",
       "                           min_impurity_decrease=0.0, min_impurity_split=None,\n",
       "                           min_samples_leaf=1, min_samples_split=0.5,\n",
       "                           min_weight_fraction_leaf=0.0, n_estimators=50,\n",
       "                           n_iter_no_change=None, presort='auto',\n",
       "                           random_state=0, subsample=1.0, tol=0.0001,\n",
       "                           validation_fraction=0.1, verbose=0,\n",
       "                           warm_start=False)"
      ]
     },
     "execution_count": 54,
     "metadata": {},
     "output_type": "execute_result"
    }
   ],
   "source": [
    "gbrt.fit(X_train, y_train)"
   ]
  },
  {
   "cell_type": "code",
   "execution_count": 55,
   "metadata": {
    "id": "ZfrFJ45sWggm"
   },
   "outputs": [
    {
     "data": {
      "text/plain": [
       "array(['is holding a', 'is eating an', 'is sitting next to a',\n",
       "       'is holding a', 'is getting into', 'is using a', 'is sitting on a',\n",
       "       'is using a', 'is using a', 'is sitting on a', 'is wearing a',\n",
       "       'is playing with a', 'is riding a', 'is wearing a', 'is eating a',\n",
       "       'is holding a', 'is holding a', 'is using a', 'is getting into a',\n",
       "       'is using a', 'is waiting for a', 'is sitting on a',\n",
       "       'is watering a', 'is using a', 'is holding a', 'is lying on a',\n",
       "       'is lying on a', 'is riding a', 'is driving a', 'is using a',\n",
       "       'is cleaning a', 'is holding a', 'is reading a', 'is using a',\n",
       "       'is getting into', 'is holding a', 'is using a', 'is holding a',\n",
       "       'is wearing a', 'is riding a', 'is eating an', 'is standing on a',\n",
       "       'is holding a', 'is holding a', 'is holding a', 'is lying on a',\n",
       "       'is holding a', 'is wearing a', 'is holding a', 'is standing on a',\n",
       "       'is watering a', 'is using a', 'is riding a', 'is holding a',\n",
       "       'is holding a', 'is waiting for a', 'is sitting on a',\n",
       "       'is holding a', 'is using a', 'is holding a', 'is using a',\n",
       "       'is wearing a', 'is riding a', 'is using a', 'is getting into a',\n",
       "       'is holding a', 'is holding a', 'is sitting with a', 'is riding a',\n",
       "       'is holding a', 'is lying on a', 'is lying next to a',\n",
       "       'is reading a', 'is standing with a', 'is holding a',\n",
       "       'is holding a', 'is holding a', 'is wearing a',\n",
       "       'is standing with a', 'is holding a', 'is using an',\n",
       "       'is holding a', 'is cleaning an', 'is lying next to a',\n",
       "       'is watering a', 'is holding a', 'is playing with a', 'is using a',\n",
       "       'is standing on a', 'is eating an', 'is holding a', 'is holding a',\n",
       "       'is using a', 'is riding a', 'is getting into a', 'is holding a',\n",
       "       'is using a', 'is holding a', 'is using a', 'is holding a',\n",
       "       'is holding a', 'is lying next to a', 'is using a',\n",
       "       'is sitting on a', 'is wearing a', 'is riding a',\n",
       "       'is sitting next to a', 'is holding a', 'is holding a',\n",
       "       'is watching a', 'is using a', 'is wearing a', 'is using a',\n",
       "       'is holding a', 'is holding a', 'is sitting on a', 'is using a',\n",
       "       'is sitting on a', 'is riding a', 'is lying on a', 'is using a',\n",
       "       'is holding a', 'is eating a', 'is getting into a', 'is eating a',\n",
       "       'is standing on a', 'is eating a', 'is using a', 'is using a',\n",
       "       'is using a', 'is holding a', 'is holding a', 'is wearing a',\n",
       "       'is wearing a', 'is wearing a', 'is standing on a',\n",
       "       'is playing with a', 'is holding a', 'is wearing a',\n",
       "       'is playing with a', 'is waiting for a', 'is wearing a',\n",
       "       'is using a', 'is waiting for a', 'is riding a', 'is holding a',\n",
       "       'is standing with a', 'is holding a', 'is wearing a', 'is using a',\n",
       "       'is wearing a', 'is holding a', 'is wearing a', 'is holding a',\n",
       "       'is using a', 'is wearing a', 'is sitting on a'], dtype=object)"
      ]
     },
     "execution_count": 55,
     "metadata": {},
     "output_type": "execute_result"
    }
   ],
   "source": [
    "gbrt.predict(X_test)"
   ]
  },
  {
   "cell_type": "code",
   "execution_count": 56,
   "metadata": {
    "colab": {
     "base_uri": "https://localhost:8080/"
    },
    "executionInfo": {
     "elapsed": 17,
     "status": "ok",
     "timestamp": 1623126399369,
     "user": {
      "displayName": "서아연",
      "photoUrl": "",
      "userId": "17724758080386571393"
     },
     "user_tz": -540
    },
    "id": "9DOMIfrhWkfW",
    "outputId": "7c93deaa-c157-4145-df89-c2c31b98c5a0"
   },
   "outputs": [
    {
     "data": {
      "text/plain": [
       "0.9968"
      ]
     },
     "execution_count": 56,
     "metadata": {},
     "output_type": "execute_result"
    }
   ],
   "source": [
    "gbrt.score(X_train, y_train)"
   ]
  },
  {
   "cell_type": "code",
   "execution_count": 57,
   "metadata": {
    "colab": {
     "base_uri": "https://localhost:8080/"
    },
    "executionInfo": {
     "elapsed": 15,
     "status": "ok",
     "timestamp": 1623126399370,
     "user": {
      "displayName": "서아연",
      "photoUrl": "",
      "userId": "17724758080386571393"
     },
     "user_tz": -540
    },
    "id": "90xDw5unWmTz",
    "outputId": "2beeb05a-6a1d-47d5-8940-ff5f919a729a"
   },
   "outputs": [
    {
     "data": {
      "text/plain": [
       "0.7070063694267515"
      ]
     },
     "execution_count": 57,
     "metadata": {},
     "output_type": "execute_result"
    }
   ],
   "source": [
    "gbrt.score(X_test, y_test)"
   ]
  },
  {
   "cell_type": "markdown",
   "metadata": {
    "id": "MJqPxJEHDDC4"
   },
   "source": [
    "# 모델 저장\n",
    " - 학습한 모델을 pickle 형태로 변수에 저장한 것"
   ]
  },
  {
   "cell_type": "code",
   "execution_count": 58,
   "metadata": {
    "colab": {
     "base_uri": "https://localhost:8080/"
    },
    "executionInfo": {
     "elapsed": 1742,
     "status": "ok",
     "timestamp": 1622995145819,
     "user": {
      "displayName": "서아연",
      "photoUrl": "",
      "userId": "17724758080386571393"
     },
     "user_tz": -540
    },
    "id": "E0jOWfK-Wtg8",
    "outputId": "00611f9d-01b5-496a-d7cd-b7b3f4c806ee"
   },
   "outputs": [
    {
     "name": "stderr",
     "output_type": "stream",
     "text": [
      "C:\\ProgramData\\Anaconda3\\lib\\site-packages\\sklearn\\externals\\joblib\\__init__.py:15: DeprecationWarning: sklearn.externals.joblib is deprecated in 0.21 and will be removed in 0.23. Please import this functionality directly from joblib, which can be installed with: pip install joblib. If this warning is raised when loading pickled models, you may need to re-serialize those models with scikit-learn 0.21+.\n",
      "  warnings.warn(msg, category=DeprecationWarning)\n"
     ]
    }
   ],
   "source": [
    "import pickle\n",
    "from sklearn.externals import joblib"
   ]
  },
  {
   "cell_type": "code",
   "execution_count": 59,
   "metadata": {
    "id": "VLm4SSGZDFdr"
   },
   "outputs": [],
   "source": [
    "saved_model_gbrt = pickle.dumps(gbrt)"
   ]
  },
  {
   "cell_type": "code",
   "execution_count": 60,
   "metadata": {
    "colab": {
     "base_uri": "https://localhost:8080/"
    },
    "executionInfo": {
     "elapsed": 266,
     "status": "ok",
     "timestamp": 1622995358120,
     "user": {
      "displayName": "서아연",
      "photoUrl": "",
      "userId": "17724758080386571393"
     },
     "user_tz": -540
    },
    "id": "O-KTi8rhDYl3",
    "outputId": "455a4c26-d506-4406-d848-df768adc04c8"
   },
   "outputs": [
    {
     "data": {
      "text/plain": [
       "array(['is holding a', 'is eating an', 'is sitting next to a',\n",
       "       'is holding a', 'is getting into', 'is using a', 'is sitting on a',\n",
       "       'is using a', 'is using a', 'is sitting on a', 'is wearing a',\n",
       "       'is playing with a', 'is riding a', 'is wearing a', 'is eating a',\n",
       "       'is holding a', 'is holding a', 'is using a', 'is getting into a',\n",
       "       'is using a', 'is waiting for a', 'is sitting on a',\n",
       "       'is watering a', 'is using a', 'is holding a', 'is lying on a',\n",
       "       'is lying on a', 'is riding a', 'is driving a', 'is using a',\n",
       "       'is cleaning a', 'is holding a', 'is reading a', 'is using a',\n",
       "       'is getting into', 'is holding a', 'is using a', 'is holding a',\n",
       "       'is wearing a', 'is riding a', 'is eating an', 'is standing on a',\n",
       "       'is holding a', 'is holding a', 'is holding a', 'is lying on a',\n",
       "       'is holding a', 'is wearing a', 'is holding a', 'is standing on a',\n",
       "       'is watering a', 'is using a', 'is riding a', 'is holding a',\n",
       "       'is holding a', 'is waiting for a', 'is sitting on a',\n",
       "       'is holding a', 'is using a', 'is holding a', 'is using a',\n",
       "       'is wearing a', 'is riding a', 'is using a', 'is getting into a',\n",
       "       'is holding a', 'is holding a', 'is sitting with a', 'is riding a',\n",
       "       'is holding a', 'is lying on a', 'is lying next to a',\n",
       "       'is reading a', 'is standing with a', 'is holding a',\n",
       "       'is holding a', 'is holding a', 'is wearing a',\n",
       "       'is standing with a', 'is holding a', 'is using an',\n",
       "       'is holding a', 'is cleaning an', 'is lying next to a',\n",
       "       'is watering a', 'is holding a', 'is playing with a', 'is using a',\n",
       "       'is standing on a', 'is eating an', 'is holding a', 'is holding a',\n",
       "       'is using a', 'is riding a', 'is getting into a', 'is holding a',\n",
       "       'is using a', 'is holding a', 'is using a', 'is holding a',\n",
       "       'is holding a', 'is lying next to a', 'is using a',\n",
       "       'is sitting on a', 'is wearing a', 'is riding a',\n",
       "       'is sitting next to a', 'is holding a', 'is holding a',\n",
       "       'is watching a', 'is using a', 'is wearing a', 'is using a',\n",
       "       'is holding a', 'is holding a', 'is sitting on a', 'is using a',\n",
       "       'is sitting on a', 'is riding a', 'is lying on a', 'is using a',\n",
       "       'is holding a', 'is eating a', 'is getting into a', 'is eating a',\n",
       "       'is standing on a', 'is eating a', 'is using a', 'is using a',\n",
       "       'is using a', 'is holding a', 'is holding a', 'is wearing a',\n",
       "       'is wearing a', 'is wearing a', 'is standing on a',\n",
       "       'is playing with a', 'is holding a', 'is wearing a',\n",
       "       'is playing with a', 'is waiting for a', 'is wearing a',\n",
       "       'is using a', 'is waiting for a', 'is riding a', 'is holding a',\n",
       "       'is standing with a', 'is holding a', 'is wearing a', 'is using a',\n",
       "       'is wearing a', 'is holding a', 'is wearing a', 'is holding a',\n",
       "       'is using a', 'is wearing a', 'is sitting on a'], dtype=object)"
      ]
     },
     "execution_count": 60,
     "metadata": {},
     "output_type": "execute_result"
    }
   ],
   "source": [
    "# Load the pickled model\n",
    "gbrt_from_pickle = pickle.loads(saved_model_gbrt)\n",
    "\n",
    "# Use the loaded pickled model to make predictions\n",
    "gbrt_from_pickle.predict(X_test)"
   ]
  },
  {
   "cell_type": "markdown",
   "metadata": {
    "id": "xoohJgjlES5B"
   },
   "source": [
    "### 파일 저장"
   ]
  },
  {
   "cell_type": "code",
   "execution_count": 61,
   "metadata": {
    "colab": {
     "base_uri": "https://localhost:8080/"
    },
    "executionInfo": {
     "elapsed": 276,
     "status": "ok",
     "timestamp": 1622995483609,
     "user": {
      "displayName": "서아연",
      "photoUrl": "",
      "userId": "17724758080386571393"
     },
     "user_tz": -540
    },
    "id": "EFMvvlDED4zi",
    "outputId": "76caf943-8fcd-4eba-cc2f-a7bc96863854"
   },
   "outputs": [
    {
     "data": {
      "text/plain": [
       "['english_helper.pkl']"
      ]
     },
     "execution_count": 61,
     "metadata": {},
     "output_type": "execute_result"
    }
   ],
   "source": [
    "joblib.dump(gbrt, 'english_helper.pkl')"
   ]
  },
  {
   "cell_type": "code",
   "execution_count": 62,
   "metadata": {},
   "outputs": [],
   "source": [
    "test = pd.read_csv('test_data.csv', index_col=0)"
   ]
  },
  {
   "cell_type": "code",
   "execution_count": 63,
   "metadata": {},
   "outputs": [],
   "source": [
    "test = pd.get_dummies(test)"
   ]
  },
  {
   "cell_type": "markdown",
   "metadata": {},
   "source": [
    "### 모델 확인"
   ]
  },
  {
   "cell_type": "code",
   "execution_count": 64,
   "metadata": {
    "colab": {
     "base_uri": "https://localhost:8080/"
    },
    "executionInfo": {
     "elapsed": 283,
     "status": "ok",
     "timestamp": 1622995518272,
     "user": {
      "displayName": "서아연",
      "photoUrl": "",
      "userId": "17724758080386571393"
     },
     "user_tz": -540
    },
    "id": "-2fTPhkXEbks",
    "outputId": "e58a8d14-8f7a-4751-eafb-1a93203cc408"
   },
   "outputs": [
    {
     "data": {
      "text/plain": [
       "array(['is eating a'], dtype=object)"
      ]
     },
     "execution_count": 64,
     "metadata": {},
     "output_type": "execute_result"
    }
   ],
   "source": [
    "gbrt_from_joblib = joblib.load('english_helper.pkl')\n",
    "\n",
    "gbrt_from_joblib.predict(test)"
   ]
  }
 ],
 "metadata": {
  "colab": {
   "authorship_tag": "ABX9TyNqxWc5msfc79FlU9adANeN",
   "collapsed_sections": [],
   "mount_file_id": "1Au0ub7De4Ui9deNog6cR_MdVJ4LjKbUB",
   "name": "Captstone learning.ipynb",
   "provenance": [],
   "toc_visible": true
  },
  "kernelspec": {
   "display_name": "Python 3",
   "language": "python",
   "name": "python3"
  },
  "language_info": {
   "codemirror_mode": {
    "name": "ipython",
    "version": 3
   },
   "file_extension": ".py",
   "mimetype": "text/x-python",
   "name": "python",
   "nbconvert_exporter": "python",
   "pygments_lexer": "ipython3",
   "version": "3.7.4"
  }
 },
 "nbformat": 4,
 "nbformat_minor": 1
}
